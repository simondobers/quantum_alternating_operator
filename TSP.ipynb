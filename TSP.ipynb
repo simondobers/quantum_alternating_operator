{
 "cells": [
  {
   "cell_type": "markdown",
   "id": "2ac85b90",
   "metadata": {},
   "source": [
    "### Implementation of QAOA and the alternating operator ansatz for the Travelling Salesperson Problem"
   ]
  },
  {
   "cell_type": "code",
   "execution_count": 121,
   "id": "99faa381",
   "metadata": {},
   "outputs": [
    {
     "name": "stdout",
     "output_type": "stream",
     "text": [
      "The autoreload extension is already loaded. To reload it, use:\n",
      "  %reload_ext autoreload\n"
     ]
    }
   ],
   "source": [
    "# imports\n",
    "%load_ext autoreload\n",
    "%autoreload 2\n",
    "from helper import create_tsp_graph,plot_tsp_graph,bitstring_to_path,cost\n",
    "from classical import solve_tsp_classical\n",
    "from alternating_operator import get_expectation\n",
    "from scipy.optimize import minimize\n",
    "from qiskit.tools.visualization import plot_histogram\n",
    "from qiskit import transpile,Aer\n",
    "from qaoa import get_expectation_qaoa,create_classical_qaoa_circ\n",
    "import pickle\n",
    "from numpy.random import rand\n",
    "import matplotlib.pyplot as plt"
   ]
  },
  {
   "cell_type": "markdown",
   "id": "d2dd751e",
   "metadata": {},
   "source": [
    "### Alternating operator ansatz"
   ]
  },
  {
   "cell_type": "code",
   "execution_count": 123,
   "id": "bb098260",
   "metadata": {},
   "outputs": [],
   "source": [
    "# No. of repetitions of the mixer-phase separator scheme\n",
    "reps = 2\n",
    "ncities = 4\n",
    "\n",
    "# number of shots taken in each iteration of the optimization\n",
    "nshots = 1024\n",
    "# set to True if intermediate counts should be saved for animation purposes (see anim.py)\n",
    "extended_logging = True"
   ]
  },
  {
   "cell_type": "code",
   "execution_count": 88,
   "id": "211ae3b6",
   "metadata": {},
   "outputs": [],
   "source": [
    "G = create_tsp_graph(ncities)\n",
    "\n",
    "if extended_logging:\n",
    "    #Pickling\n",
    "    with open(\".\\data\\G\", \"wb\") as f:   \n",
    "        pickle.dump(G,f)"
   ]
  },
  {
   "cell_type": "code",
   "execution_count": 89,
   "id": "658cc5ce",
   "metadata": {},
   "outputs": [
    {
     "data": {
      "image/png": "[encoded data removed]",
      "text/plain": [
       "<Figure size 432x288 with 1 Axes>"
      ]
     },
     "metadata": {},
     "output_type": "display_data"
    }
   ],
   "source": [
    "plot_tsp_graph(G)"
   ]
  },
  {
   "cell_type": "code",
   "execution_count": 90,
   "id": "54537336",
   "metadata": {
    "scrolled": true
   },
   "outputs": [
    {
     "name": "stderr",
     "output_type": "stream",
     "text": [
      "Evolved Hamiltonian is not composed of only Paulis, converting to Pauli representation, which can be expensive.\n"
     ]
    },
    {
     "name": "stdout",
     "output_type": "stream",
     "text": [
      "Current expected cost: 214.75\n",
      "Current expected cost: 214.75\n",
      "Current expected cost: 214.75\n",
      "Current expected cost: 214.75\n",
      "Current expected cost: 214.75\n",
      "Current expected cost: 185.56\n",
      "Current expected cost: 191.51\n",
      "Current expected cost: 185.56\n",
      "Current expected cost: 183.3\n",
      "Current expected cost: 190.9\n",
      "Current expected cost: 188.1\n",
      "Current expected cost: 183.3\n",
      "Current expected cost: 180.82\n",
      "Current expected cost: 180.82\n",
      "Current expected cost: 199.72\n",
      "Current expected cost: 180.82\n",
      "Current expected cost: 200.85\n",
      "Current expected cost: 220.16\n",
      "Current expected cost: 204.53\n",
      "Current expected cost: 196.46\n",
      "Current expected cost: 180.82\n",
      "Current expected cost: 191.52\n",
      "Current expected cost: 200.51\n",
      "Current expected cost: 180.63\n",
      "Current expected cost: 212.7\n",
      "Current expected cost: 187.86\n",
      "Current expected cost: 197.19\n",
      "Current expected cost: 180.63\n",
      "Current expected cost: 191.26\n",
      "Current expected cost: 180.63\n",
      "Current expected cost: 200.99\n",
      "Current expected cost: 180.63\n",
      "Current expected cost: 215.89\n",
      "Current expected cost: 189.92\n",
      "Current expected cost: 184.94\n",
      "Current expected cost: 180.63\n",
      "Current expected cost: 203.12\n",
      "Current expected cost: 207.74\n",
      "Current expected cost: 179.78\n",
      "Current expected cost: 184.02\n",
      "Current expected cost: 179.78\n",
      "Current expected cost: 205.59\n",
      "Current expected cost: 179.78\n",
      "Current expected cost: 189.34\n",
      "Current expected cost: 179.78\n",
      "Current expected cost: 189.34\n",
      "Current expected cost: 173.54\n",
      "Current expected cost: 191.08\n",
      "Current expected cost: 174.71\n",
      "Current expected cost: 207.36\n",
      "Current expected cost: 176.53\n",
      "Current expected cost: 180.51\n",
      "Current expected cost: 191.31\n",
      "Current expected cost: 177.24\n",
      "Current expected cost: 173.18\n",
      "Current expected cost: 174.82\n",
      "Current expected cost: 173.18\n",
      "Current expected cost: 173.55\n",
      "Current expected cost: 173.27\n",
      "Current expected cost: 173.98\n",
      "Current expected cost: 171.65\n",
      "Current expected cost: 174.91\n",
      "Current expected cost: 171.65\n",
      "Current expected cost: 174.17\n",
      "Current expected cost: 173.72\n",
      "Current expected cost: 173.72\n",
      "Current expected cost: 170.03\n",
      "Current expected cost: 170.75\n",
      "Current expected cost: 171.12\n",
      "Current expected cost: 170.75\n",
      "Current expected cost: 170.75\n",
      "Current expected cost: 171.02\n",
      "Current expected cost: 170.39\n",
      "Current expected cost: 170.3\n",
      "Current expected cost: 170.21\n",
      "Current expected cost: 171.56\n",
      "Current expected cost: 170.21\n",
      "Current expected cost: 171.21\n",
      "Current expected cost: 170.48\n",
      "Current expected cost: 170.21\n",
      "Current expected cost: 170.3\n",
      "Current expected cost: 170.21\n",
      "Current expected cost: 170.3\n",
      "Current expected cost: 170.3\n",
      "Current expected cost: 170.21\n",
      "Current expected cost: 170.3\n",
      "Current expected cost: 170.12\n",
      "Current expected cost: 170.12\n",
      "Current expected cost: 170.3\n",
      "Current expected cost: 170.12\n",
      "Current expected cost: 170.21\n",
      "Current expected cost: 169.94\n",
      "Current expected cost: 169.94\n",
      "Current expected cost: 170.12\n",
      "Current expected cost: 170.21\n",
      "Current expected cost: 170.03\n",
      "Current expected cost: 170.3\n",
      "Current expected cost: 170.03\n",
      "Current expected cost: 170.03\n",
      "Current expected cost: 170.12\n",
      "Current expected cost: 170.3\n",
      "Current expected cost: 170.12\n",
      "Current expected cost: 169.94\n",
      "Current expected cost: 170.12\n",
      "Current expected cost: 170.03\n",
      "Current expected cost: 169.94\n",
      "Current expected cost: 170.03\n",
      "Current expected cost: 169.94\n",
      "Current expected cost: 170.12\n",
      "Current expected cost: 170.03\n",
      "Current expected cost: 169.94\n",
      "Current expected cost: 170.03\n",
      "Current expected cost: 169.94\n",
      "Current expected cost: 169.94\n",
      "Current expected cost: 169.94\n",
      "Current expected cost: 169.94\n",
      "Current expected cost: 169.94\n"
     ]
    }
   ],
   "source": [
    "# optimize circuit parameters to find the best path\n",
    "\n",
    "expectation = get_expectation(G,reps,shots=nshots,log_intermediate_counts=extended_logging)\n",
    "\n",
    "# initial circuit parameters\n",
    "initial_params = [1. if i<reps*2 else np.random.rand()*2 for i in range(reps*4)]\n",
    "\n",
    "# minimize expected cost\n",
    "res = minimize(expectation,\n",
    "               inital_params,\n",
    "                      method='COBYLA',\n",
    "                      options = {'tol' : 1e-6,'disp' : True})"
   ]
  },
  {
   "cell_type": "code",
   "execution_count": 92,
   "id": "8dd85a3c",
   "metadata": {
    "scrolled": true
   },
   "outputs": [
    {
     "data": {
      "text/plain": [
       "     fun: 169.94304627570799\n",
       "   maxcv: 0.0\n",
       " message: 'Optimization terminated successfully.'\n",
       "    nfev: 117\n",
       "  status: 1\n",
       " success: True\n",
       "       x: array([1.31958653, 1.31878708, 0.76639748, 0.76706084, 1.77973738,\n",
       "       1.30082216, 1.47561448, 2.41421993])"
      ]
     },
     "execution_count": 92,
     "metadata": {},
     "output_type": "execute_result"
    }
   ],
   "source": [
    "# result of optimization\n",
    "res"
   ]
  },
  {
   "cell_type": "code",
   "execution_count": 93,
   "id": "b9e5d97e",
   "metadata": {},
   "outputs": [
    {
     "name": "stderr",
     "output_type": "stream",
     "text": [
      "Evolved Hamiltonian is not composed of only Paulis, converting to Pauli representation, which can be expensive.\n"
     ]
    },
    {
     "data": {
      "image/png": "[encoded data removed]",
      "text/plain": [
       "<Figure size 504x360 with 1 Axes>"
      ]
     },
     "execution_count": 93,
     "metadata": {},
     "output_type": "execute_result"
    }
   ],
   "source": [
    "fig,counts = analyse_result(G,res.x,reps=reps,transform_labels_to_path=True,filter_unique_path=True,save_plot=extended_logging)\n",
    "fig"
   ]
  },
  {
   "cell_type": "code",
   "execution_count": 94,
   "id": "13e9a6cf",
   "metadata": {},
   "outputs": [
    {
     "name": "stdout",
     "output_type": "stream",
     "text": [
      "[2, 3, 0, 1] : 345    cost = 220.96\n",
      "[2, 0, 1, 3] : 109    cost = 221.64\n",
      "[0, 2, 1, 3] : 570    cost = 129.18\n"
     ]
    }
   ],
   "source": [
    "# print all paths that are present in counts with their respective cost \n",
    "for key, val in counts.items():\n",
    "    if val>1:\n",
    "        path = bitstring_to_path(key)\n",
    "        print(path,':', val , f\"   cost = {round(cost(G,path),2)}\")"
   ]
  },
  {
   "cell_type": "code",
   "execution_count": 95,
   "id": "d8c36fed",
   "metadata": {},
   "outputs": [
    {
     "data": {
      "text/plain": [
       "([0, 2, 1, 3], 129.17590372653362)"
      ]
     },
     "execution_count": 95,
     "metadata": {},
     "output_type": "execute_result"
    }
   ],
   "source": [
    "# find optimal path with a classical algorithm \n",
    "solve_tsp_classical(G)"
   ]
  },
  {
   "cell_type": "markdown",
   "id": "e0160c82",
   "metadata": {},
   "source": [
    "### Classical QAOA implementation "
   ]
  },
  {
   "cell_type": "code",
   "execution_count": 98,
   "id": "aa53ce78",
   "metadata": {},
   "outputs": [
    {
     "name": "stdout",
     "output_type": "stream",
     "text": [
      "Current expected cost: 318.07\n",
      "Current expected cost: 318.25\n",
      "Current expected cost: 318.25\n",
      "Current expected cost: 318.07\n",
      "Current expected cost: 318.06\n",
      "Current expected cost: 313.6\n",
      "Current expected cost: 318.25\n",
      "Current expected cost: 318.25\n",
      "Current expected cost: 318.07\n",
      "Current expected cost: 313.6\n",
      "Current expected cost: 317.69\n",
      "Current expected cost: 281.86\n",
      "Current expected cost: 310.08\n",
      "Current expected cost: 275.59\n",
      "Current expected cost: 221.34\n",
      "Current expected cost: 279.96\n",
      "Current expected cost: 222.77\n",
      "Current expected cost: 221.15\n",
      "Current expected cost: 244.24\n",
      "Current expected cost: 235.31\n",
      "Current expected cost: 225.62\n",
      "Current expected cost: 221.15\n",
      "Current expected cost: 224.01\n",
      "Current expected cost: 223.15\n",
      "Current expected cost: 221.15\n",
      "Current expected cost: 221.34\n",
      "Current expected cost: 221.06\n",
      "Current expected cost: 221.06\n",
      "Current expected cost: 221.06\n",
      "Current expected cost: 221.06\n",
      "Current expected cost: 221.15\n",
      "Current expected cost: 221.06\n",
      "Current expected cost: 221.06\n",
      "Current expected cost: 221.06\n",
      "Current expected cost: 221.06\n",
      "Current expected cost: 221.06\n",
      "Current expected cost: 221.06\n",
      "Current expected cost: 221.06\n",
      "Current expected cost: 221.06\n",
      "Current expected cost: 221.06\n"
     ]
    }
   ],
   "source": [
    "expectation_qaoa = get_expectation_qaoa(G,reps,shots=nshots,penalty=0.5,log_intermediate_counts=extended_logging)\n",
    "\n",
    "inital params_qaoa = [1 for _ in range(reps*2)]\n",
    "\n",
    "res_qaoa = minimize(expectation_qaoa,\n",
    "                    inital_params_qaoa,\n",
    "                      method='COBYLA',\n",
    "                      options = {'tol' : 1e-4,'disp' : True})"
   ]
  },
  {
   "cell_type": "code",
   "execution_count": 99,
   "id": "50c8cfd6",
   "metadata": {},
   "outputs": [
    {
     "data": {
      "text/plain": [
       "     fun: 221.0598270149642\n",
       "   maxcv: 0.0\n",
       " message: 'Optimization terminated successfully.'\n",
       "    nfev: 40\n",
       "  status: 1\n",
       " success: True\n",
       "       x: array([-0.0078852 ,  0.00219782,  1.00112483,  1.8149632 ])"
      ]
     },
     "execution_count": 99,
     "metadata": {},
     "output_type": "execute_result"
    }
   ],
   "source": [
    "res_qaoa"
   ]
  },
  {
   "cell_type": "code",
   "execution_count": 100,
   "id": "d5046292",
   "metadata": {},
   "outputs": [
    {
     "name": "stderr",
     "output_type": "stream",
     "text": [
      "Evolved Hamiltonian is not composed of only Paulis, converting to Pauli representation, which can be expensive.\n"
     ]
    },
    {
     "data": {
      "image/png": "[encoded data removed]",
      "text/plain": [
       "<Figure size 504x360 with 1 Axes>"
      ]
     },
     "execution_count": 100,
     "metadata": {},
     "output_type": "execute_result"
    }
   ],
   "source": [
    "fig,counts = analyse_result(G,np.hstack([np.array([1. for _ in range(reps*2)]),res_qaoa.x]),reps=reps,transform_labels_to_path=True,filter_unique_path=True)\n",
    "fig"
   ]
  },
  {
   "cell_type": "markdown",
   "id": "11623472",
   "metadata": {},
   "source": [
    "## If 0,1,2,3,4 is \"good\" -> the algorithm almost always converges to that value "
   ]
  },
  {
   "cell_type": "markdown",
   "id": "c9a9265e",
   "metadata": {},
   "source": [
    "### Compute ciruit sizes of the two algorithms"
   ]
  },
  {
   "cell_type": "code",
   "execution_count": 223,
   "id": "8fd1daf2",
   "metadata": {},
   "outputs": [],
   "source": [
    "def compute_circuit_sizes(ncities_max=6,reps=1):\n",
    "    sizes_alternating_operator = []\n",
    "    sizes_qaoa = []\n",
    "    simulator = Aer.get_backend('aer_simulator')\n",
    "    x = []\n",
    "    \n",
    "    for ncities in range(2,ncities_max+1,1):\n",
    "        G = create_tsp_graph(ncities)\n",
    "        x.append(ncities)\n",
    "        \n",
    "        alt_op = create_qaoa_circ(G,reps=reps)\n",
    "        alt_op = transpile(alt_op, simulator,optimization_level = 3)\n",
    "        sizes_alternating_operator.append(alt_op.depth())\n",
    "        \n",
    "        qaoa = create_classical_qaoa_circ(G,reps=reps)\n",
    "        qaoa = transpile(qaoa, simulator,optimization_level = 1)\n",
    "        sizes_qaoa.append(qaoa.depth())\n",
    "    \n",
    "    \n",
    "    return (x,sizes_alternating_operator,sizes_qaoa)\n",
    "        "
   ]
  },
  {
   "cell_type": "code",
   "execution_count": 225,
   "id": "998741f8",
   "metadata": {},
   "outputs": [
    {
     "data": {
      "text/plain": [
       "([2, 3, 4, 5], [136, 771, 1656, 2738], [12, 37, 85, 211])"
      ]
     },
     "execution_count": 225,
     "metadata": {},
     "output_type": "execute_result"
    }
   ],
   "source": [
    "compute_circuit_sizes(5,2)"
   ]
  },
  {
   "cell_type": "markdown",
   "id": "cb8931de",
   "metadata": {},
   "source": [
    "### Plot expected cost over the iterations"
   ]
  },
  {
   "cell_type": "code",
   "execution_count": 124,
   "id": "7e8a61a5",
   "metadata": {},
   "outputs": [],
   "source": [
    "# path where to save the figure, set to None if you do not want to save it \n",
    "save_path = \"CompQAOA_ALT_op_qaoa_takes_first_sol.png\""
   ]
  },
  {
   "cell_type": "code",
   "execution_count": 125,
   "id": "a28d82b4",
   "metadata": {},
   "outputs": [],
   "source": [
    "# values copied from above optimization\n",
    "cost_alt_op = [214.75, 214.75, 214.75, 214.75, 214.75, 185.56, 191.51, 185.56, 183.3, 190.9, 188.1, 183.3, 180.82, 180.82, 199.72, 180.82, 200.85, 220.16, 204.53, 196.46, 180.82, 191.52, 200.51, 180.63, 212.7, 187.86, 197.19, 180.63, 191.26, 180.63, 200.99, 180.63, 215.89, 189.92, 184.94, 180.63, 203.12, 207.74, 179.78, 184.02, 179.78, 205.59, 179.78, 189.34, 179.78, 189.34, 173.54, 191.08, 174.71, 207.36, 176.53, 180.51, 191.31, 177.24, 173.18, 174.82, 173.18, 173.55, 173.27, 173.98, 171.65, 174.91, 171.65, 174.17, 173.72, 173.72, 170.03, 170.75, 171.12, 170.75, 170.75, 171.02, 170.39, 170.3, 170.21, 171.56, 170.21, 171.21, 170.48, 170.21, 170.3, 170.21, 170.3, 170.3, 170.21, 170.3, 170.12, 170.12, 170.3, 170.12, 170.21, 169.94, 169.94, 170.12, 170.21, 170.03, 170.3, 170.03, 170.03, 170.12, 170.3, 170.12, 169.94, 170.12, 170.03, 169.94, 170.03, 169.94, 170.12, 170.03, 169.94, 170.03, 169.94, 169.94, 169.94, 169.94, 169.94]\n",
    "cost_qaoa = [318.07, 318.25, 318.25, 318.07, 318.06, 313.6, 318.25, 318.25, 318.07, 313.6, 317.69, 281.86, 310.08, 275.59, 221.34, 279.96, 222.77, 221.15, 244.24, 235.31, 225.62, 221.15, 224.01, 223.15, 221.15, 221.34, 221.06, 221.06, 221.06, 221.06, 221.15, 221.06, 221.06, 221.06, 221.06, 221.06, 221.06, 221.06, 221.06, 221.06]"
   ]
  },
  {
   "cell_type": "code",
   "execution_count": 120,
   "id": "d0ad779a",
   "metadata": {},
   "outputs": [
    {
     "data": {
      "image/png": "[encoded data removed]",
      "text/plain": [
       "<Figure size 576x396 with 1 Axes>"
      ]
     },
     "metadata": {},
     "output_type": "display_data"
    }
   ],
   "source": [
    "plt.style.use('seaborn')\n",
    "plt.plot([i for i in range(len(cost_alt_op))],cost_alt_op,cost_qaoa+[cost_qaoa[-1] for _ in range(len(cost_alt_op)-len(cost_qaoa))])\n",
    "plt.title(\"Expected cost over optimization step\")\n",
    "plt.xlabel(\"Optimization step\")\n",
    "plt.ylabel(\"Expected cost\")\n",
    "plt.legend(['Alternating Operator Ansatz','Classic QAOA'])\n",
    "\n",
    "if save_path is not None:\n",
    "    plt.savefig(save_path,dpi=1024)"
   ]
  }
 ],
 "metadata": {
  "kernelspec": {
   "display_name": "Python 3 (ipykernel)",
   "language": "python",
   "name": "python3"
  },
  "language_info": {
   "codemirror_mode": {
    "name": "ipython",
    "version": 3
   },
   "file_extension": ".py",
   "mimetype": "text/x-python",
   "name": "python",
   "nbconvert_exporter": "python",
   "pygments_lexer": "ipython3",
   "version": "3.9.12"
  }
 },
 "nbformat": 4,
 "nbformat_minor": 5
}
