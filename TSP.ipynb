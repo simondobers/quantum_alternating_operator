{
 "cells": [
  {
   "cell_type": "code",
   "execution_count": 26,
   "id": "03e01a30",
   "metadata": {},
   "outputs": [
    {
     "name": "stdout",
     "output_type": "stream",
     "text": [
      "The autoreload extension is already loaded. To reload it, use:\n",
      "  %reload_ext autoreload\n"
     ]
    }
   ],
   "source": [
    "%load_ext autoreload\n",
    "%autoreload 2\n",
    "from helper import create_tsp_graph,plot_tsp_graph,bitstring_to_path,cost\n",
    "from classical import solve_tsp_classical\n",
    "from alternating_operator import get_expectation,analyse_result,create_qaoa_circ\n",
    "from scipy.optimize import minimize\n",
    "from qiskit.tools.visualization import plot_histogram\n",
    "from qiskit import transpile,Aer\n",
    "from qaoa import get_expectation_qaoa,create_classical_qaoa_circ\n",
    "import pickle\n",
    "from numpy.random import rand"
   ]
  },
  {
   "cell_type": "code",
   "execution_count": 44,
   "id": "bb098260",
   "metadata": {},
   "outputs": [],
   "source": [
    "reps = 2\n",
    "ncities = 4"
   ]
  },
  {
   "cell_type": "code",
   "execution_count": 37,
   "id": "211ae3b6",
   "metadata": {},
   "outputs": [],
   "source": [
    "G = create_tsp_graph(ncities)"
   ]
  },
  {
   "cell_type": "code",
   "execution_count": 38,
   "id": "658cc5ce",
   "metadata": {},
   "outputs": [
    {
     "data": {
      "image/png": "[encoded data removed]",
      "text/plain": [
       "<Figure size 432x288 with 1 Axes>"
      ]
     },
     "metadata": {},
     "output_type": "display_data"
    }
   ],
   "source": [
    "plot_tsp_graph(G)"
   ]
  },
  {
   "cell_type": "code",
   "execution_count": 45,
   "id": "54537336",
   "metadata": {
    "scrolled": true
   },
   "outputs": [
    {
     "name": "stderr",
     "output_type": "stream",
     "text": [
      "Evolved Hamiltonian is not composed of only Paulis, converting to Pauli representation, which can be expensive.\n"
     ]
    },
    {
     "name": "stdout",
     "output_type": "stream",
     "text": [
      "Current expected cost: 209.29\n",
      "Current expected cost: 209.29\n",
      "Current expected cost: 209.29\n",
      "Current expected cost: 209.29\n",
      "Current expected cost: 209.29\n",
      "Current expected cost: 210.04\n",
      "Current expected cost: 209.84\n",
      "Current expected cost: 209.29\n",
      "Current expected cost: 209.45\n",
      "Current expected cost: 211.96\n",
      "Current expected cost: 212.76\n",
      "Current expected cost: 210.4\n",
      "Current expected cost: 209.29\n",
      "Current expected cost: 207.06\n",
      "Current expected cost: 226.33\n",
      "Current expected cost: 207.06\n",
      "Current expected cost: 222.33\n",
      "Current expected cost: 207.06\n",
      "Current expected cost: 203.33\n",
      "Current expected cost: 225.96\n",
      "Current expected cost: 203.33\n",
      "Current expected cost: 225.96\n",
      "Current expected cost: 203.33\n",
      "Current expected cost: 225.96\n",
      "Current expected cost: 217.54\n",
      "Current expected cost: 229.1\n",
      "Current expected cost: 220.99\n",
      "Current expected cost: 203.33\n",
      "Current expected cost: 218.49\n",
      "Current expected cost: 212.93\n",
      "Current expected cost: 224.28\n",
      "Current expected cost: 203.33\n",
      "Current expected cost: 211.34\n",
      "Current expected cost: 203.33\n",
      "Current expected cost: 213.19\n",
      "Current expected cost: 214.43\n",
      "Current expected cost: 211.26\n",
      "Current expected cost: 207.11\n",
      "Current expected cost: 225.76\n",
      "Current expected cost: 203.33\n",
      "Current expected cost: 221.27\n",
      "Current expected cost: 203.33\n",
      "Current expected cost: 213.7\n",
      "Current expected cost: 218.07\n",
      "Current expected cost: 203.33\n",
      "Current expected cost: 213.94\n",
      "Current expected cost: 203.33\n",
      "Current expected cost: 203.26\n",
      "Current expected cost: 203.26\n",
      "Current expected cost: 208.7\n",
      "Current expected cost: 210.2\n",
      "Current expected cost: 212.49\n",
      "Current expected cost: 203.26\n",
      "Current expected cost: 203.88\n",
      "Current expected cost: 203.26\n",
      "Current expected cost: 202.98\n",
      "Current expected cost: 202.98\n",
      "Current expected cost: 208.04\n",
      "Current expected cost: 202.98\n",
      "Current expected cost: 207.29\n",
      "Current expected cost: 211.12\n",
      "Current expected cost: 199.71\n",
      "Current expected cost: 200.99\n",
      "Current expected cost: 208.56\n",
      "Current expected cost: 205.0\n",
      "Current expected cost: 199.71\n",
      "Current expected cost: 199.33\n",
      "Current expected cost: 199.33\n",
      "Current expected cost: 199.39\n",
      "Current expected cost: 199.33\n",
      "Current expected cost: 198.71\n",
      "Current expected cost: 199.86\n",
      "Current expected cost: 196.98\n",
      "Current expected cost: 196.76\n",
      "Current expected cost: 198.57\n",
      "Current expected cost: 196.76\n",
      "Current expected cost: 197.48\n",
      "Current expected cost: 196.61\n",
      "Current expected cost: 196.6\n",
      "Current expected cost: 196.6\n",
      "Current expected cost: 196.76\n",
      "Current expected cost: 197.32\n",
      "Current expected cost: 196.6\n",
      "Current expected cost: 197.32\n",
      "Current expected cost: 196.6\n",
      "Current expected cost: 197.22\n",
      "Current expected cost: 196.6\n",
      "Current expected cost: 196.9\n",
      "Current expected cost: 196.52\n",
      "Current expected cost: 196.93\n",
      "Current expected cost: 196.69\n",
      "Current expected cost: 196.72\n",
      "Current expected cost: 196.85\n",
      "Current expected cost: 196.72\n",
      "Current expected cost: 196.52\n",
      "Current expected cost: 197.25\n",
      "Current expected cost: 196.5\n",
      "Current expected cost: 196.5\n",
      "Current expected cost: 196.55\n",
      "Current expected cost: 196.66\n",
      "Current expected cost: 196.53\n",
      "Current expected cost: 196.7\n",
      "Current expected cost: 196.78\n",
      "Current expected cost: 196.57\n",
      "Current expected cost: 196.64\n",
      "Current expected cost: 196.64\n",
      "Current expected cost: 196.5\n",
      "Current expected cost: 196.66\n",
      "Current expected cost: 196.42\n",
      "Current expected cost: 196.72\n",
      "Current expected cost: 196.45\n",
      "Current expected cost: 196.37\n",
      "Current expected cost: 196.42\n",
      "Current expected cost: 196.52\n",
      "Current expected cost: 196.37\n",
      "Current expected cost: 196.53\n",
      "Current expected cost: 196.46\n",
      "Current expected cost: 196.52\n",
      "Current expected cost: 196.43\n",
      "Current expected cost: 196.6\n",
      "Current expected cost: 196.43\n",
      "Current expected cost: 196.37\n",
      "Current expected cost: 196.43\n",
      "Current expected cost: 196.43\n",
      "Current expected cost: 196.48\n",
      "Current expected cost: 196.37\n",
      "Current expected cost: 196.37\n",
      "Current expected cost: 196.48\n",
      "Current expected cost: 196.43\n",
      "Current expected cost: 196.43\n",
      "Current expected cost: 196.37\n",
      "Current expected cost: 196.43\n",
      "Current expected cost: 196.48\n",
      "Current expected cost: 196.37\n",
      "Current expected cost: 196.43\n",
      "Current expected cost: 196.37\n",
      "Current expected cost: 196.37\n",
      "Current expected cost: 196.37\n",
      "Current expected cost: 196.37\n",
      "Current expected cost: 196.37\n"
     ]
    }
   ],
   "source": [
    "expectation = get_expectation(G,reps,shots=1024,log_intermediate_counts=True)\n",
    "\n",
    "res = minimize(expectation,\n",
    "               [1. if i<reps*2 else np.random.rand()*2 for i in range(reps*4)],\n",
    "                      method='COBYLA',\n",
    "                      options = {'tol' : 1e-6,'disp' : True,'maxiter':150})"
   ]
  },
  {
   "cell_type": "code",
   "execution_count": 41,
   "id": "ec93d43a",
   "metadata": {},
   "outputs": [],
   "source": [
    "with open(\".\\data\\G\", \"wb\") as fp:   #Pickling\n",
    "    pickle.dump(G,fp)"
   ]
  },
  {
   "cell_type": "code",
   "execution_count": 46,
   "id": "8dd85a3c",
   "metadata": {
    "scrolled": true
   },
   "outputs": [
    {
     "data": {
      "text/plain": [
       "     fun: 196.37470160510347\n",
       "   maxcv: 0.0\n",
       " message: 'Optimization terminated successfully.'\n",
       "    nfev: 140\n",
       "  status: 1\n",
       " success: True\n",
       "       x: array([0.99807674, 0.99735368, 1.        , 0.99999965, 0.99863882,\n",
       "       1.74103996, 1.24593838, 1.96463201])"
      ]
     },
     "execution_count": 46,
     "metadata": {},
     "output_type": "execute_result"
    }
   ],
   "source": [
    "res"
   ]
  },
  {
   "cell_type": "code",
   "execution_count": 43,
   "id": "b9e5d97e",
   "metadata": {},
   "outputs": [
    {
     "name": "stderr",
     "output_type": "stream",
     "text": [
      "Evolved Hamiltonian is not composed of only Paulis, converting to Pauli representation, which can be expensive.\n"
     ]
    },
    {
     "data": {
      "image/png": "[encoded data removed]",
      "text/plain": [
       "<Figure size 504x360 with 1 Axes>"
      ]
     },
     "execution_count": 43,
     "metadata": {},
     "output_type": "execute_result"
    }
   ],
   "source": [
    "fig,counts = analyse_result(G,res.x,reps=reps,transform_labels_to_path=True,filter_unique_path=True,save_plot=True)\n",
    "fig"
   ]
  },
  {
   "cell_type": "code",
   "execution_count": 253,
   "id": "13e9a6cf",
   "metadata": {},
   "outputs": [
    {
     "name": "stdout",
     "output_type": "stream",
     "text": [
      "[3, 0, 1, 2] : 1024    cost = 84.62\n"
     ]
    }
   ],
   "source": [
    "for key, val in counts.items():\n",
    "    if val>1:\n",
    "        path = bitstring_to_path(key)\n",
    "        print(path,':', val , f\"   cost = {round(cost(G,path),2)}\")"
   ]
  },
  {
   "cell_type": "code",
   "execution_count": 39,
   "id": "d8c36fed",
   "metadata": {},
   "outputs": [
    {
     "data": {
      "text/plain": [
       "([0, 3, 1, 2], 171.56367752716903)"
      ]
     },
     "execution_count": 39,
     "metadata": {},
     "output_type": "execute_result"
    }
   ],
   "source": [
    "solve_tsp_classical(G)"
   ]
  },
  {
   "cell_type": "code",
   "execution_count": null,
   "id": "94250a39",
   "metadata": {},
   "outputs": [],
   "source": []
  },
  {
   "cell_type": "code",
   "execution_count": 276,
   "id": "aa53ce78",
   "metadata": {},
   "outputs": [
    {
     "name": "stdout",
     "output_type": "stream",
     "text": [
      "Current expected cost: 279.01\n",
      "Current expected cost: 279.01\n",
      "Current expected cost: 279.01\n",
      "Current expected cost: 204.5\n",
      "Current expected cost: 279.01\n",
      "Current expected cost: 277.66\n",
      "Current expected cost: 204.5\n",
      "Current expected cost: 277.66\n",
      "Current expected cost: 252.16\n",
      "Current expected cost: 221.31\n",
      "Current expected cost: 208.79\n",
      "Current expected cost: 204.5\n",
      "Current expected cost: 208.79\n",
      "Current expected cost: 205.59\n",
      "Current expected cost: 204.79\n",
      "Current expected cost: 204.57\n",
      "Current expected cost: 204.5\n",
      "Current expected cost: 204.57\n",
      "Current expected cost: 204.57\n",
      "Current expected cost: 204.5\n",
      "Current expected cost: 204.5\n",
      "Current expected cost: 204.5\n",
      "Current expected cost: 204.5\n",
      "Current expected cost: 204.5\n"
     ]
    }
   ],
   "source": [
    "expectation_qaoa = get_expectation_qaoa(G,reps,shots=1024,penalty=1.,log_intermediate_counts=True)\n",
    "\n",
    "res_qaoa = minimize(expectation_qaoa,\n",
    "               [1 for _ in range(reps*2)] ,\n",
    "                      method='COBYLA',\n",
    "                      options = {'tol' : 1e-4,'disp' : True})"
   ]
  },
  {
   "cell_type": "code",
   "execution_count": 176,
   "id": "50c8cfd6",
   "metadata": {},
   "outputs": [
    {
     "data": {
      "text/plain": [
       "     fun: 500.09391155402056\n",
       "   maxcv: 0.0\n",
       " message: 'Optimization terminated successfully.'\n",
       "    nfev: 13\n",
       "  status: 1\n",
       " success: True\n",
       "       x: array([1., 1.])"
      ]
     },
     "execution_count": 176,
     "metadata": {},
     "output_type": "execute_result"
    }
   ],
   "source": [
    "res_qaoa"
   ]
  },
  {
   "cell_type": "code",
   "execution_count": 218,
   "id": "d5046292",
   "metadata": {},
   "outputs": [
    {
     "name": "stderr",
     "output_type": "stream",
     "text": [
      "Evolved Hamiltonian is not composed of only Paulis, converting to Pauli representation, which can be expensive.\n"
     ]
    },
    {
     "data": {
      "image/png": "[encoded data removed]",
      "text/plain": [
       "<Figure size 504x360 with 1 Axes>"
      ]
     },
     "execution_count": 218,
     "metadata": {},
     "output_type": "execute_result"
    }
   ],
   "source": [
    "fig,counts = analyse_result(G,np.hstack([np.array([1.,1.]),res_qaoa.x]),reps=reps,transform_labels_to_path=True,filter_unique_path=True)\n",
    "fig"
   ]
  },
  {
   "cell_type": "markdown",
   "id": "11623472",
   "metadata": {},
   "source": [
    "## If 0,1,2,3,4 is \"good\" -> the algorithm almost always converges to that value "
   ]
  },
  {
   "cell_type": "code",
   "execution_count": 223,
   "id": "8fd1daf2",
   "metadata": {},
   "outputs": [],
   "source": [
    "def compute_circuit_sizes(ncities_max=6,reps=1):\n",
    "    sizes_alternating_operator = []\n",
    "    sizes_qaoa = []\n",
    "    simulator = Aer.get_backend('aer_simulator')\n",
    "    x = []\n",
    "    \n",
    "    for ncities in range(2,ncities_max+1,1):\n",
    "        G = create_tsp_graph(ncities)\n",
    "        x.append(ncities)\n",
    "        \n",
    "        alt_op = create_qaoa_circ(G,reps=reps)\n",
    "        alt_op = transpile(alt_op, simulator,optimization_level = 3)\n",
    "        sizes_alternating_operator.append(alt_op.depth())\n",
    "        \n",
    "        qaoa = create_classical_qaoa_circ(G,reps=reps)\n",
    "        qaoa = transpile(qaoa, simulator,optimization_level = 1)\n",
    "        sizes_qaoa.append(qaoa.depth())\n",
    "    \n",
    "    \n",
    "    return (x,sizes_alternating_operator,sizes_qaoa)\n",
    "        "
   ]
  },
  {
   "cell_type": "code",
   "execution_count": 225,
   "id": "998741f8",
   "metadata": {},
   "outputs": [
    {
     "data": {
      "text/plain": [
       "([2, 3, 4, 5], [136, 771, 1656, 2738], [12, 37, 85, 211])"
      ]
     },
     "execution_count": 225,
     "metadata": {},
     "output_type": "execute_result"
    }
   ],
   "source": [
    "compute_circuit_sizes(5,2)"
   ]
  },
  {
   "cell_type": "code",
   "execution_count": null,
   "id": "a7244070",
   "metadata": {},
   "outputs": [],
   "source": []
  },
  {
   "cell_type": "code",
   "execution_count": 242,
   "id": "bffb6169",
   "metadata": {},
   "outputs": [],
   "source": [
    "a = {'1000000101000010': 180.866, '1000010000100001': 234.667, '0010100001000001': 238.15}\n",
    "b ={'1000000101000010': 210, '1000010000100001': 443, '0010100001000001': 371}"
   ]
  },
  {
   "cell_type": "code",
   "execution_count": 246,
   "id": "02eb15e6",
   "metadata": {},
   "outputs": [
    {
     "data": {
      "text/plain": [
       "True"
      ]
     },
     "execution_count": 246,
     "metadata": {},
     "output_type": "execute_result"
    }
   ],
   "source": [
    "'0010100001000001' in b"
   ]
  },
  {
   "cell_type": "code",
   "execution_count": null,
   "id": "a28d82b4",
   "metadata": {},
   "outputs": [],
   "source": []
  }
 ],
 "metadata": {
  "kernelspec": {
   "display_name": "Python 3 (ipykernel)",
   "language": "python",
   "name": "python3"
  },
  "language_info": {
   "codemirror_mode": {
    "name": "ipython",
    "version": 3
   },
   "file_extension": ".py",
   "mimetype": "text/x-python",
   "name": "python",
   "nbconvert_exporter": "python",
   "pygments_lexer": "ipython3",
   "version": "3.9.12"
  }
 },
 "nbformat": 4,
 "nbformat_minor": 5
}
