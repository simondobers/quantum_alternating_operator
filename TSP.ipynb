{
 "cells": [
  {
   "cell_type": "code",
   "execution_count": 1,
   "id": "03e01a30",
   "metadata": {},
   "outputs": [],
   "source": [
    "%load_ext autoreload\n",
    "%autoreload 2\n",
    "from helper import create_tsp_graph,plot_tsp_graph,bitstring_to_path,cost\n",
    "from classical import solve_tsp_classical\n",
    "from alternating_operator import get_expectation,analyse_result,create_qaoa_circ\n",
    "from scipy.optimize import minimize\n",
    "from qiskit.tools.visualization import plot_histogram\n",
    "from qiskit import transpile"
   ]
  },
  {
   "cell_type": "code",
   "execution_count": 93,
   "id": "211ae3b6",
   "metadata": {},
   "outputs": [],
   "source": [
    "G = create_tsp_graph(4)"
   ]
  },
  {
   "cell_type": "code",
   "execution_count": 94,
   "id": "658cc5ce",
   "metadata": {},
   "outputs": [
    {
     "data": {
      "image/png": "[encoded data removed]",
      "text/plain": [
       "<Figure size 432x288 with 1 Axes>"
      ]
     },
     "metadata": {},
     "output_type": "display_data"
    }
   ],
   "source": [
    "plot_tsp_graph(G)"
   ]
  },
  {
   "cell_type": "code",
   "execution_count": 175,
   "id": "54537336",
   "metadata": {
    "scrolled": true
   },
   "outputs": [
    {
     "name": "stderr",
     "output_type": "stream",
     "text": [
      "Evolved Hamiltonian is not composed of only Paulis, converting to Pauli representation, which can be expensive.\n",
      "Simulation failed and returned the following error message:\n",
      "ERROR:  [Experiment 0] Circuit qaoaAnsatz-8967676 contains invalid instructions {\"gates\": {PauliEvolution}} for \"statevector\" method.\n"
     ]
    },
    {
     "ename": "QiskitError",
     "evalue": "'ERROR:  [Experiment 0] Circuit qaoaAnsatz-8967676 contains invalid instructions {\"gates\": {PauliEvolution}} for \"statevector\" method. ,  ERROR: Circuit qaoaAnsatz-8967676 contains invalid instructions {\"gates\": {PauliEvolution}} for \"statevector\" method.'",
     "output_type": "error",
     "traceback": [
      "\u001b[1;31m---------------------------------------------------------------------------\u001b[0m",
      "\u001b[1;31mQiskitError\u001b[0m                               Traceback (most recent call last)",
      "Input \u001b[1;32mIn [175]\u001b[0m, in \u001b[0;36m<cell line: 4>\u001b[1;34m()\u001b[0m\n\u001b[0;32m      1\u001b[0m reps \u001b[38;5;241m=\u001b[39m \u001b[38;5;241m1\u001b[39m\n\u001b[0;32m      2\u001b[0m expectation \u001b[38;5;241m=\u001b[39m get_expectation(G,reps,shots\u001b[38;5;241m=\u001b[39m\u001b[38;5;241m1024\u001b[39m)\n\u001b[1;32m----> 4\u001b[0m res \u001b[38;5;241m=\u001b[39m \u001b[43mminimize\u001b[49m\u001b[43m(\u001b[49m\u001b[43mexpectation\u001b[49m\u001b[43m,\u001b[49m\n\u001b[0;32m      5\u001b[0m \u001b[43m               \u001b[49m\u001b[43m[\u001b[49m\u001b[38;5;241;43m1\u001b[39;49m\u001b[43m \u001b[49m\u001b[38;5;28;43;01mfor\u001b[39;49;00m\u001b[43m \u001b[49m\u001b[43m_\u001b[49m\u001b[43m \u001b[49m\u001b[38;5;129;43;01min\u001b[39;49;00m\u001b[43m \u001b[49m\u001b[38;5;28;43mrange\u001b[39;49m\u001b[43m(\u001b[49m\u001b[43mreps\u001b[49m\u001b[38;5;241;43m*\u001b[39;49m\u001b[38;5;241;43m4\u001b[39;49m\u001b[43m)\u001b[49m\u001b[43m]\u001b[49m\u001b[43m \u001b[49m\u001b[43m,\u001b[49m\n\u001b[0;32m      6\u001b[0m \u001b[43m                      \u001b[49m\u001b[43mmethod\u001b[49m\u001b[38;5;241;43m=\u001b[39;49m\u001b[38;5;124;43m'\u001b[39;49m\u001b[38;5;124;43mCOBYLA\u001b[39;49m\u001b[38;5;124;43m'\u001b[39;49m\u001b[43m,\u001b[49m\n\u001b[0;32m      7\u001b[0m \u001b[43m                      \u001b[49m\u001b[43moptions\u001b[49m\u001b[43m \u001b[49m\u001b[38;5;241;43m=\u001b[39;49m\u001b[43m \u001b[49m\u001b[43m{\u001b[49m\u001b[38;5;124;43m'\u001b[39;49m\u001b[38;5;124;43mtol\u001b[39;49m\u001b[38;5;124;43m'\u001b[39;49m\u001b[43m \u001b[49m\u001b[43m:\u001b[49m\u001b[43m \u001b[49m\u001b[38;5;241;43m5\u001b[39;49m\u001b[43m,\u001b[49m\u001b[38;5;124;43m'\u001b[39;49m\u001b[38;5;124;43mdisp\u001b[39;49m\u001b[38;5;124;43m'\u001b[39;49m\u001b[43m \u001b[49m\u001b[43m:\u001b[49m\u001b[43m \u001b[49m\u001b[38;5;28;43;01mTrue\u001b[39;49;00m\u001b[43m}\u001b[49m\u001b[43m)\u001b[49m\n",
      "File \u001b[1;32m~\\Anaconda3\\envs\\qaoa\\lib\\site-packages\\scipy\\optimize\\_minimize.py:629\u001b[0m, in \u001b[0;36mminimize\u001b[1;34m(fun, x0, args, method, jac, hess, hessp, bounds, constraints, tol, callback, options)\u001b[0m\n\u001b[0;32m    626\u001b[0m     \u001b[38;5;28;01mreturn\u001b[39;00m _minimize_tnc(fun, x0, args, jac, bounds, callback\u001b[38;5;241m=\u001b[39mcallback,\n\u001b[0;32m    627\u001b[0m                          \u001b[38;5;241m*\u001b[39m\u001b[38;5;241m*\u001b[39moptions)\n\u001b[0;32m    628\u001b[0m \u001b[38;5;28;01melif\u001b[39;00m meth \u001b[38;5;241m==\u001b[39m \u001b[38;5;124m'\u001b[39m\u001b[38;5;124mcobyla\u001b[39m\u001b[38;5;124m'\u001b[39m:\n\u001b[1;32m--> 629\u001b[0m     \u001b[38;5;28;01mreturn\u001b[39;00m _minimize_cobyla(fun, x0, args, constraints, \u001b[38;5;241m*\u001b[39m\u001b[38;5;241m*\u001b[39moptions)\n\u001b[0;32m    630\u001b[0m \u001b[38;5;28;01melif\u001b[39;00m meth \u001b[38;5;241m==\u001b[39m \u001b[38;5;124m'\u001b[39m\u001b[38;5;124mslsqp\u001b[39m\u001b[38;5;124m'\u001b[39m:\n\u001b[0;32m    631\u001b[0m     \u001b[38;5;28;01mreturn\u001b[39;00m _minimize_slsqp(fun, x0, args, jac, bounds,\n\u001b[0;32m    632\u001b[0m                            constraints, callback\u001b[38;5;241m=\u001b[39mcallback, \u001b[38;5;241m*\u001b[39m\u001b[38;5;241m*\u001b[39moptions)\n",
      "File \u001b[1;32m~\\Anaconda3\\envs\\qaoa\\lib\\site-packages\\scipy\\optimize\\cobyla.py:34\u001b[0m, in \u001b[0;36msynchronized.<locals>.wrapper\u001b[1;34m(*args, **kwargs)\u001b[0m\n\u001b[0;32m     31\u001b[0m \u001b[38;5;129m@functools\u001b[39m\u001b[38;5;241m.\u001b[39mwraps(func)\n\u001b[0;32m     32\u001b[0m \u001b[38;5;28;01mdef\u001b[39;00m \u001b[38;5;21mwrapper\u001b[39m(\u001b[38;5;241m*\u001b[39margs, \u001b[38;5;241m*\u001b[39m\u001b[38;5;241m*\u001b[39mkwargs):\n\u001b[0;32m     33\u001b[0m     \u001b[38;5;28;01mwith\u001b[39;00m _module_lock:\n\u001b[1;32m---> 34\u001b[0m         \u001b[38;5;28;01mreturn\u001b[39;00m func(\u001b[38;5;241m*\u001b[39margs, \u001b[38;5;241m*\u001b[39m\u001b[38;5;241m*\u001b[39mkwargs)\n",
      "File \u001b[1;32m~\\Anaconda3\\envs\\qaoa\\lib\\site-packages\\scipy\\optimize\\cobyla.py:260\u001b[0m, in \u001b[0;36m_minimize_cobyla\u001b[1;34m(fun, x0, args, constraints, rhobeg, tol, maxiter, disp, catol, **unknown_options)\u001b[0m\n\u001b[0;32m    257\u001b[0m     \u001b[38;5;28;01mreturn\u001b[39;00m f\n\u001b[0;32m    259\u001b[0m info \u001b[38;5;241m=\u001b[39m np\u001b[38;5;241m.\u001b[39mzeros(\u001b[38;5;241m4\u001b[39m, np\u001b[38;5;241m.\u001b[39mfloat64)\n\u001b[1;32m--> 260\u001b[0m xopt, info \u001b[38;5;241m=\u001b[39m \u001b[43m_cobyla\u001b[49m\u001b[38;5;241;43m.\u001b[39;49m\u001b[43mminimize\u001b[49m\u001b[43m(\u001b[49m\u001b[43mcalcfc\u001b[49m\u001b[43m,\u001b[49m\u001b[43m \u001b[49m\u001b[43mm\u001b[49m\u001b[38;5;241;43m=\u001b[39;49m\u001b[43mm\u001b[49m\u001b[43m,\u001b[49m\u001b[43m \u001b[49m\u001b[43mx\u001b[49m\u001b[38;5;241;43m=\u001b[39;49m\u001b[43mnp\u001b[49m\u001b[38;5;241;43m.\u001b[39;49m\u001b[43mcopy\u001b[49m\u001b[43m(\u001b[49m\u001b[43mx0\u001b[49m\u001b[43m)\u001b[49m\u001b[43m,\u001b[49m\u001b[43m \u001b[49m\u001b[43mrhobeg\u001b[49m\u001b[38;5;241;43m=\u001b[39;49m\u001b[43mrhobeg\u001b[49m\u001b[43m,\u001b[49m\n\u001b[0;32m    261\u001b[0m \u001b[43m                              \u001b[49m\u001b[43mrhoend\u001b[49m\u001b[38;5;241;43m=\u001b[39;49m\u001b[43mrhoend\u001b[49m\u001b[43m,\u001b[49m\u001b[43m \u001b[49m\u001b[43miprint\u001b[49m\u001b[38;5;241;43m=\u001b[39;49m\u001b[43miprint\u001b[49m\u001b[43m,\u001b[49m\u001b[43m \u001b[49m\u001b[43mmaxfun\u001b[49m\u001b[38;5;241;43m=\u001b[39;49m\u001b[43mmaxfun\u001b[49m\u001b[43m,\u001b[49m\n\u001b[0;32m    262\u001b[0m \u001b[43m                              \u001b[49m\u001b[43mdinfo\u001b[49m\u001b[38;5;241;43m=\u001b[39;49m\u001b[43minfo\u001b[49m\u001b[43m)\u001b[49m\n\u001b[0;32m    264\u001b[0m \u001b[38;5;28;01mif\u001b[39;00m info[\u001b[38;5;241m3\u001b[39m] \u001b[38;5;241m>\u001b[39m catol:\n\u001b[0;32m    265\u001b[0m     \u001b[38;5;66;03m# Check constraint violation\u001b[39;00m\n\u001b[0;32m    266\u001b[0m     info[\u001b[38;5;241m0\u001b[39m] \u001b[38;5;241m=\u001b[39m \u001b[38;5;241m4\u001b[39m\n",
      "File \u001b[1;32m~\\Anaconda3\\envs\\qaoa\\lib\\site-packages\\scipy\\optimize\\cobyla.py:252\u001b[0m, in \u001b[0;36m_minimize_cobyla.<locals>.calcfc\u001b[1;34m(x, con)\u001b[0m\n\u001b[0;32m    251\u001b[0m \u001b[38;5;28;01mdef\u001b[39;00m \u001b[38;5;21mcalcfc\u001b[39m(x, con):\n\u001b[1;32m--> 252\u001b[0m     f \u001b[38;5;241m=\u001b[39m \u001b[43mfun\u001b[49m\u001b[43m(\u001b[49m\u001b[43mnp\u001b[49m\u001b[38;5;241;43m.\u001b[39;49m\u001b[43mcopy\u001b[49m\u001b[43m(\u001b[49m\u001b[43mx\u001b[49m\u001b[43m)\u001b[49m\u001b[43m,\u001b[49m\u001b[43m \u001b[49m\u001b[38;5;241;43m*\u001b[39;49m\u001b[43margs\u001b[49m\u001b[43m)\u001b[49m\n\u001b[0;32m    253\u001b[0m     i \u001b[38;5;241m=\u001b[39m \u001b[38;5;241m0\u001b[39m\n\u001b[0;32m    254\u001b[0m     \u001b[38;5;28;01mfor\u001b[39;00m size, c \u001b[38;5;129;01min\u001b[39;00m izip(cons_lengths, constraints):\n",
      "File \u001b[1;32m~\\Desktop\\quantum_alternating_operator\\alternating_operator.py:196\u001b[0m, in \u001b[0;36mget_expectation.<locals>.execute_circ\u001b[1;34m(theta)\u001b[0m\n\u001b[0;32m    192\u001b[0m \u001b[38;5;28;01mfor\u001b[39;00m key,value \u001b[38;5;129;01min\u001b[39;00m \u001b[38;5;28mzip\u001b[39m(qc\u001b[38;5;241m.\u001b[39mparameters,theta):\n\u001b[0;32m    193\u001b[0m     params[key] \u001b[38;5;241m=\u001b[39m [value]\n\u001b[1;32m--> 196\u001b[0m counts \u001b[38;5;241m=\u001b[39m \u001b[43msimulator\u001b[49m\u001b[38;5;241;43m.\u001b[39;49m\u001b[43mrun\u001b[49m\u001b[43m(\u001b[49m\u001b[43mqc\u001b[49m\u001b[43m,\u001b[49m\u001b[43mparameter_binds\u001b[49m\u001b[38;5;241;43m=\u001b[39;49m\u001b[43m[\u001b[49m\u001b[43mparams\u001b[49m\u001b[43m]\u001b[49m\u001b[43m,\u001b[49m\u001b[43m  \u001b[49m\u001b[43mseed_simulator\u001b[49m\u001b[38;5;241;43m=\u001b[39;49m\u001b[38;5;241;43m10\u001b[39;49m\u001b[43m,\u001b[49m\u001b[43m \u001b[49m\n\u001b[0;32m    197\u001b[0m \u001b[43m                     \u001b[49m\u001b[43mnshots\u001b[49m\u001b[38;5;241;43m=\u001b[39;49m\u001b[43mshots\u001b[49m\u001b[43m)\u001b[49m\u001b[38;5;241;43m.\u001b[39;49m\u001b[43mresult\u001b[49m\u001b[43m(\u001b[49m\u001b[43m)\u001b[49m\u001b[38;5;241;43m.\u001b[39;49m\u001b[43mget_counts\u001b[49m\u001b[43m(\u001b[49m\u001b[43m)\u001b[49m\n\u001b[0;32m    199\u001b[0m \u001b[38;5;28;01mreturn\u001b[39;00m compute_expectation(counts, G)\n",
      "File \u001b[1;32m~\\Anaconda3\\envs\\qaoa\\lib\\site-packages\\qiskit\\result\\result.py:280\u001b[0m, in \u001b[0;36mResult.get_counts\u001b[1;34m(self, experiment)\u001b[0m\n\u001b[0;32m    278\u001b[0m dict_list \u001b[38;5;241m=\u001b[39m []\n\u001b[0;32m    279\u001b[0m \u001b[38;5;28;01mfor\u001b[39;00m key \u001b[38;5;129;01min\u001b[39;00m exp_keys:\n\u001b[1;32m--> 280\u001b[0m     exp \u001b[38;5;241m=\u001b[39m \u001b[38;5;28;43mself\u001b[39;49m\u001b[38;5;241;43m.\u001b[39;49m\u001b[43m_get_experiment\u001b[49m\u001b[43m(\u001b[49m\u001b[43mkey\u001b[49m\u001b[43m)\u001b[49m\n\u001b[0;32m    281\u001b[0m     \u001b[38;5;28;01mtry\u001b[39;00m:\n\u001b[0;32m    282\u001b[0m         header \u001b[38;5;241m=\u001b[39m exp\u001b[38;5;241m.\u001b[39mheader\u001b[38;5;241m.\u001b[39mto_dict()\n",
      "File \u001b[1;32m~\\Anaconda3\\envs\\qaoa\\lib\\site-packages\\qiskit\\result\\result.py:408\u001b[0m, in \u001b[0;36mResult._get_experiment\u001b[1;34m(self, key)\u001b[0m\n\u001b[0;32m    406\u001b[0m result_status \u001b[38;5;241m=\u001b[39m \u001b[38;5;28mgetattr\u001b[39m(\u001b[38;5;28mself\u001b[39m, \u001b[38;5;124m\"\u001b[39m\u001b[38;5;124mstatus\u001b[39m\u001b[38;5;124m\"\u001b[39m, \u001b[38;5;124m\"\u001b[39m\u001b[38;5;124mResult was not successful\u001b[39m\u001b[38;5;124m\"\u001b[39m)\n\u001b[0;32m    407\u001b[0m exp_status \u001b[38;5;241m=\u001b[39m \u001b[38;5;28mgetattr\u001b[39m(exp, \u001b[38;5;124m\"\u001b[39m\u001b[38;5;124mstatus\u001b[39m\u001b[38;5;124m\"\u001b[39m, \u001b[38;5;124m\"\u001b[39m\u001b[38;5;124mExperiment was not successful\u001b[39m\u001b[38;5;124m\"\u001b[39m)\n\u001b[1;32m--> 408\u001b[0m \u001b[38;5;28;01mraise\u001b[39;00m QiskitError(result_status, \u001b[38;5;124m\"\u001b[39m\u001b[38;5;124m, \u001b[39m\u001b[38;5;124m\"\u001b[39m, exp_status)\n",
      "\u001b[1;31mQiskitError\u001b[0m: 'ERROR:  [Experiment 0] Circuit qaoaAnsatz-8967676 contains invalid instructions {\"gates\": {PauliEvolution}} for \"statevector\" method. ,  ERROR: Circuit qaoaAnsatz-8967676 contains invalid instructions {\"gates\": {PauliEvolution}} for \"statevector\" method.'"
     ]
    }
   ],
   "source": [
    "reps = 1\n",
    "expectation = get_expectation(G,reps,shots=1024)\n",
    "\n",
    "res = minimize(expectation,\n",
    "               [1 for _ in range(reps*4)] ,\n",
    "                      method='COBYLA',\n",
    "                      options = {'tol' : 5,'disp' : True})"
   ]
  },
  {
   "cell_type": "code",
   "execution_count": 171,
   "id": "8dd85a3c",
   "metadata": {
    "scrolled": true
   },
   "outputs": [
    {
     "data": {
      "text/plain": [
       "     fun: 257.58468491597694\n",
       "   maxcv: 0.0\n",
       " message: 'Optimization terminated successfully.'\n",
       "    nfev: 6\n",
       "  status: 1\n",
       " success: True\n",
       "       x: array([1., 1., 0., 1.])"
      ]
     },
     "execution_count": 171,
     "metadata": {},
     "output_type": "execute_result"
    }
   ],
   "source": [
    "res"
   ]
  },
  {
   "cell_type": "code",
   "execution_count": 172,
   "id": "b9e5d97e",
   "metadata": {},
   "outputs": [
    {
     "name": "stderr",
     "output_type": "stream",
     "text": [
      "Evolved Hamiltonian is not composed of only Paulis, converting to Pauli representation, which can be expensive.\n"
     ]
    },
    {
     "data": {
      "image/png": "[encoded data removed]",
      "text/plain": [
       "<Figure size 504x360 with 1 Axes>"
      ]
     },
     "execution_count": 172,
     "metadata": {},
     "output_type": "execute_result"
    }
   ],
   "source": [
    "fig,counts = analyse_result(G,res.x,transform_labels_to_path=True,filter_unique_path=False)\n",
    "fig"
   ]
  },
  {
   "cell_type": "code",
   "execution_count": 166,
   "id": "13e9a6cf",
   "metadata": {},
   "outputs": [
    {
     "name": "stdout",
     "output_type": "stream",
     "text": [
      "[3, 0, 1, 2] : 431    cost = 257.58\n",
      "[0, 1, 3, 2] : 366    cost = 225.94\n",
      "[0, 2, 1, 3] : 227    cost = 204.48\n"
     ]
    }
   ],
   "source": [
    "for key, val in counts.items():\n",
    "    if val>1:\n",
    "        path = bitstring_to_path(key)\n",
    "        print(path,':', val , f\"   cost = {round(cost(G,path),2)}\")"
   ]
  },
  {
   "cell_type": "code",
   "execution_count": 162,
   "id": "e5e51023",
   "metadata": {
    "scrolled": true
   },
   "outputs": [
    {
     "name": "stdout",
     "output_type": "stream",
     "text": [
      "(0, 1, 2, 3) : 257.58468491597694\n",
      "(0, 1, 3, 2) : 225.93662157582426\n",
      "(0, 2, 1, 3) : 204.47802161445287\n",
      "(0, 2, 3, 1) : 225.93662157582426\n",
      "(0, 3, 1, 2) : 204.47802161445284\n",
      "(0, 3, 2, 1) : 257.58468491597694\n",
      "(1, 0, 2, 3) : 225.93662157582423\n",
      "(1, 0, 3, 2) : 257.58468491597694\n",
      "(1, 2, 0, 3) : 204.47802161445287\n",
      "(1, 2, 3, 0) : 257.58468491597694\n",
      "(1, 3, 0, 2) : 204.47802161445287\n",
      "(1, 3, 2, 0) : 225.93662157582426\n",
      "(2, 0, 1, 3) : 225.93662157582423\n",
      "(2, 0, 3, 1) : 204.47802161445287\n",
      "(2, 1, 0, 3) : 257.58468491597694\n",
      "(2, 1, 3, 0) : 204.47802161445284\n",
      "(2, 3, 0, 1) : 257.58468491597694\n",
      "(2, 3, 1, 0) : 225.93662157582426\n",
      "(3, 0, 1, 2) : 257.58468491597694\n",
      "(3, 0, 2, 1) : 204.47802161445287\n",
      "(3, 1, 0, 2) : 225.93662157582423\n",
      "(3, 1, 2, 0) : 204.47802161445287\n",
      "(3, 2, 0, 1) : 225.93662157582426\n",
      "(3, 2, 1, 0) : 257.58468491597694\n"
     ]
    }
   ],
   "source": [
    "from itertools import permutations\n",
    "for p in permutations([0,1,2,3]):\n",
    "    print(p,':',cost(G,p))"
   ]
  },
  {
   "cell_type": "code",
   "execution_count": 163,
   "id": "d8c36fed",
   "metadata": {},
   "outputs": [
    {
     "data": {
      "text/plain": [
       "([0, 3, 1, 2], 204.47802161445284)"
      ]
     },
     "execution_count": 163,
     "metadata": {},
     "output_type": "execute_result"
    }
   ],
   "source": [
    "solve_tsp_classical(G)"
   ]
  },
  {
   "cell_type": "code",
   "execution_count": 122,
   "id": "58a236ac",
   "metadata": {},
   "outputs": [],
   "source": [
    "from qiskit.algorithms import QAOA\n",
    "from qiskit.algorithms.optimizers import COBYLA\n",
    "from alternating_operator import create_initial_state_circuit,create_mixer_operator,create_phase_separator\n",
    "from qaoa import build_cost\n",
    "from qiskit.circuit import Parameter\n",
    "from qiskit import Aer"
   ]
  },
  {
   "cell_type": "code",
   "execution_count": 177,
   "id": "9da752f9",
   "metadata": {},
   "outputs": [],
   "source": [
    "qaoa = QAOA(optimizer=COBYLA(),reps=1,initial_state =create_initial_state_circuit(4),mixer = create_mixer_operator(4),quantum_instance=Aer.get_backend('aer_simulator'))"
   ]
  },
  {
   "cell_type": "code",
   "execution_count": 181,
   "id": "0815c796",
   "metadata": {
    "scrolled": true
   },
   "outputs": [],
   "source": [
    "cost_ham = build_cost(1.,3,G)\n",
    "\n",
    "phase_sep = create_phase_separator(G)\n",
    "\n",
    "params = [Parameter(str(i)) for i in range(reps*4)]\n",
    "\n",
    "qc = qaoa.construct_circuit(params,phase_sep)[0]"
   ]
  },
  {
   "cell_type": "code",
   "execution_count": 153,
   "id": "a6cbee2a",
   "metadata": {},
   "outputs": [],
   "source": [
    "res_2 = qaoa.compute_minimum_eigenvalue(create_phase_separator(G))"
   ]
  },
  {
   "cell_type": "code",
   "execution_count": 154,
   "id": "a8c79ab8",
   "metadata": {},
   "outputs": [
    {
     "data": {
      "text/plain": [
       "<qiskit.algorithms.minimum_eigen_solvers.vqe.VQEResult at 0x1976cf205b0>"
      ]
     },
     "execution_count": 154,
     "metadata": {},
     "output_type": "execute_result"
    }
   ],
   "source": [
    "res_2"
   ]
  },
  {
   "cell_type": "code",
   "execution_count": 155,
   "id": "10da485a",
   "metadata": {},
   "outputs": [],
   "source": [
    "from collections import OrderedDict\n",
    "import numpy as np\n",
    "def sample_most_likely(state_vector):\n",
    "    \"\"\"Compute the most likely binary string from state vector.\n",
    "    Args:\n",
    "        state_vector (numpy.ndarray or dict): state vector or counts.\n",
    "    Returns:\n",
    "        numpy.ndarray: binary string as numpy.ndarray of ints.\n",
    "    \"\"\"\n",
    "    if isinstance(state_vector, (OrderedDict, dict)):\n",
    "        # get the binary string with the largest count\n",
    "        binary_string = sorted(state_vector.items(), key=lambda kv: kv[1])[-1][0]\n",
    "        #x = np.asarray([int(y) for y in reversed(list(binary_string))])\n",
    "        return binary_string\n",
    "    elif isinstance(state_vector, StateFn):\n",
    "        binary_string = list(state_vector.sample().keys())[0]\n",
    "        x = np.asarray([int(y) for y in reversed(list(binary_string))])\n",
    "        return x\n",
    "    else:\n",
    "        n = int(np.log2(state_vector.shape[0]))\n",
    "        k = np.argmax(np.abs(state_vector))\n",
    "        x = np.zeros(n)\n",
    "        for i in range(n):\n",
    "            x[i] = k % 2\n",
    "            k >>= 1\n",
    "        return x"
   ]
  },
  {
   "cell_type": "code",
   "execution_count": 156,
   "id": "952f2ed6",
   "metadata": {},
   "outputs": [],
   "source": [
    "x = sample_most_likely(res_2.eigenstate)"
   ]
  },
  {
   "cell_type": "code",
   "execution_count": 168,
   "id": "a1dbe1ad",
   "metadata": {},
   "outputs": [
    {
     "data": {
      "text/plain": [
       "[2, 0, 1, 3]"
      ]
     },
     "execution_count": 168,
     "metadata": {},
     "output_type": "execute_result"
    }
   ],
   "source": [
    "bitstring_to_path(x)"
   ]
  },
  {
   "cell_type": "code",
   "execution_count": 157,
   "id": "a08c7b11",
   "metadata": {},
   "outputs": [
    {
     "data": {
      "image/png": "[encoded data removed]",
      "text/plain": [
       "<Figure size 504x360 with 1 Axes>"
      ]
     },
     "execution_count": 157,
     "metadata": {},
     "output_type": "execute_result"
    }
   ],
   "source": [
    "fig = plot_histogram(res_2.eigenstate, title='Result of Optimization')\n",
    "\n",
    "ax = fig.axes\n",
    "ax = ax[0]\n",
    "\n",
    "labels = [bitstring_to_path(item.get_text(), return_as_string=True) for item in ax.get_xticklabels()]\n",
    "ax.set_xticklabels(labels)\n",
    "\n",
    "fig\n",
    "    \n"
   ]
  },
  {
   "cell_type": "code",
   "execution_count": 129,
   "id": "81b7ea7e",
   "metadata": {},
   "outputs": [
    {
     "name": "stdout",
     "output_type": "stream",
     "text": [
      "[3, 2, 0, 1]    cost = 225.94\n",
      "[3, 1, 0, 2]    cost = 225.94\n",
      "[3, 0, 2, 1]    cost = 204.48\n",
      "[3, 0, 1, 2]    cost = 257.58\n",
      "[2, 3, 0, 1]    cost = 257.58\n",
      "[2, 1, 0, 3]    cost = 257.58\n",
      "[2, 0, 3, 1]    cost = 204.48\n",
      "[2, 0, 1, 3]    cost = 225.94\n",
      "[1, 3, 0, 2]    cost = 204.48\n",
      "[1, 2, 0, 3]    cost = 204.48\n",
      "[1, 0, 3, 2]    cost = 257.58\n",
      "[1, 0, 2, 3]    cost = 225.94\n",
      "[0, 3, 2, 1]    cost = 257.58\n",
      "[0, 3, 1, 2]    cost = 204.48\n",
      "[0, 2, 3, 1]    cost = 225.94\n",
      "[0, 2, 1, 3]    cost = 204.48\n",
      "[0, 1, 3, 2]    cost = 225.94\n",
      "[0, 1, 2, 3]    cost = 257.58\n"
     ]
    }
   ],
   "source": [
    "for key, val in res_2.eigenstate.items():\n",
    "    path = bitstring_to_path(key)\n",
    "    print(path , f\"   cost = {round(cost(G,path),2)}\")"
   ]
  },
  {
   "cell_type": "code",
   "execution_count": null,
   "id": "c0e70648",
   "metadata": {},
   "outputs": [],
   "source": []
  }
 ],
 "metadata": {
  "kernelspec": {
   "display_name": "Python 3 (ipykernel)",
   "language": "python",
   "name": "python3"
  },
  "language_info": {
   "codemirror_mode": {
    "name": "ipython",
    "version": 3
   },
   "file_extension": ".py",
   "mimetype": "text/x-python",
   "name": "python",
   "nbconvert_exporter": "python",
   "pygments_lexer": "ipython3",
   "version": "3.9.12"
  }
 },
 "nbformat": 4,
 "nbformat_minor": 5
}
