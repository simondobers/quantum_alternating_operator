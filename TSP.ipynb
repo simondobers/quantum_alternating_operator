{
 "cells": [
  {
   "cell_type": "code",
   "execution_count": 1,
   "id": "03e01a30",
   "metadata": {},
   "outputs": [],
   "source": [
    "%load_ext autoreload\n",
    "%autoreload 2\n",
    "from helper import create_tsp_graph,plot_tsp_graph,bitstring_to_path,cost\n",
    "from classical import solve_tsp_classical\n",
    "from alternating_operator import get_expectation,analyse_result\n",
    "from scipy.optimize import minimize\n",
    "from qiskit.tools.visualization import plot_histogram"
   ]
  },
  {
   "cell_type": "code",
   "execution_count": 41,
   "id": "211ae3b6",
   "metadata": {},
   "outputs": [],
   "source": [
    "G = create_tsp_graph(4)"
   ]
  },
  {
   "cell_type": "code",
   "execution_count": 42,
   "id": "658cc5ce",
   "metadata": {},
   "outputs": [
    {
     "data": {
      "image/png": "[encoded data removed]",
      "text/plain": [
       "<Figure size 432x288 with 1 Axes>"
      ]
     },
     "metadata": {},
     "output_type": "display_data"
    }
   ],
   "source": [
    "plot_tsp_graph(G)"
   ]
  },
  {
   "cell_type": "code",
   "execution_count": 49,
   "id": "54537336",
   "metadata": {
    "scrolled": false
   },
   "outputs": [
    {
     "name": "stderr",
     "output_type": "stream",
     "text": [
      "Evolved Hamiltonian is not composed of only Paulis, converting to Pauli representation, which can be expensive.\n",
      "Evolved Hamiltonian is not composed of only Paulis, converting to Pauli representation, which can be expensive.\n",
      "Evolved Hamiltonian is not composed of only Paulis, converting to Pauli representation, which can be expensive.\n",
      "Evolved Hamiltonian is not composed of only Paulis, converting to Pauli representation, which can be expensive.\n",
      "Evolved Hamiltonian is not composed of only Paulis, converting to Pauli representation, which can be expensive.\n",
      "Evolved Hamiltonian is not composed of only Paulis, converting to Pauli representation, which can be expensive.\n",
      "Evolved Hamiltonian is not composed of only Paulis, converting to Pauli representation, which can be expensive.\n",
      "Evolved Hamiltonian is not composed of only Paulis, converting to Pauli representation, which can be expensive.\n",
      "Evolved Hamiltonian is not composed of only Paulis, converting to Pauli representation, which can be expensive.\n",
      "Evolved Hamiltonian is not composed of only Paulis, converting to Pauli representation, which can be expensive.\n",
      "Evolved Hamiltonian is not composed of only Paulis, converting to Pauli representation, which can be expensive.\n",
      "Evolved Hamiltonian is not composed of only Paulis, converting to Pauli representation, which can be expensive.\n",
      "Evolved Hamiltonian is not composed of only Paulis, converting to Pauli representation, which can be expensive.\n",
      "Evolved Hamiltonian is not composed of only Paulis, converting to Pauli representation, which can be expensive.\n",
      "Evolved Hamiltonian is not composed of only Paulis, converting to Pauli representation, which can be expensive.\n",
      "Evolved Hamiltonian is not composed of only Paulis, converting to Pauli representation, which can be expensive.\n",
      "Evolved Hamiltonian is not composed of only Paulis, converting to Pauli representation, which can be expensive.\n",
      "Evolved Hamiltonian is not composed of only Paulis, converting to Pauli representation, which can be expensive.\n",
      "Evolved Hamiltonian is not composed of only Paulis, converting to Pauli representation, which can be expensive.\n",
      "Evolved Hamiltonian is not composed of only Paulis, converting to Pauli representation, which can be expensive.\n",
      "Evolved Hamiltonian is not composed of only Paulis, converting to Pauli representation, which can be expensive.\n",
      "Evolved Hamiltonian is not composed of only Paulis, converting to Pauli representation, which can be expensive.\n",
      "Evolved Hamiltonian is not composed of only Paulis, converting to Pauli representation, which can be expensive.\n",
      "Evolved Hamiltonian is not composed of only Paulis, converting to Pauli representation, which can be expensive.\n",
      "Evolved Hamiltonian is not composed of only Paulis, converting to Pauli representation, which can be expensive.\n",
      "Evolved Hamiltonian is not composed of only Paulis, converting to Pauli representation, which can be expensive.\n",
      "Evolved Hamiltonian is not composed of only Paulis, converting to Pauli representation, which can be expensive.\n",
      "Evolved Hamiltonian is not composed of only Paulis, converting to Pauli representation, which can be expensive.\n",
      "Evolved Hamiltonian is not composed of only Paulis, converting to Pauli representation, which can be expensive.\n",
      "Evolved Hamiltonian is not composed of only Paulis, converting to Pauli representation, which can be expensive.\n",
      "Evolved Hamiltonian is not composed of only Paulis, converting to Pauli representation, which can be expensive.\n",
      "Evolved Hamiltonian is not composed of only Paulis, converting to Pauli representation, which can be expensive.\n",
      "Evolved Hamiltonian is not composed of only Paulis, converting to Pauli representation, which can be expensive.\n",
      "Evolved Hamiltonian is not composed of only Paulis, converting to Pauli representation, which can be expensive.\n",
      "Evolved Hamiltonian is not composed of only Paulis, converting to Pauli representation, which can be expensive.\n",
      "Evolved Hamiltonian is not composed of only Paulis, converting to Pauli representation, which can be expensive.\n",
      "Evolved Hamiltonian is not composed of only Paulis, converting to Pauli representation, which can be expensive.\n",
      "Evolved Hamiltonian is not composed of only Paulis, converting to Pauli representation, which can be expensive.\n",
      "Evolved Hamiltonian is not composed of only Paulis, converting to Pauli representation, which can be expensive.\n",
      "Evolved Hamiltonian is not composed of only Paulis, converting to Pauli representation, which can be expensive.\n",
      "Evolved Hamiltonian is not composed of only Paulis, converting to Pauli representation, which can be expensive.\n",
      "Evolved Hamiltonian is not composed of only Paulis, converting to Pauli representation, which can be expensive.\n",
      "Evolved Hamiltonian is not composed of only Paulis, converting to Pauli representation, which can be expensive.\n",
      "Evolved Hamiltonian is not composed of only Paulis, converting to Pauli representation, which can be expensive.\n",
      "Evolved Hamiltonian is not composed of only Paulis, converting to Pauli representation, which can be expensive.\n",
      "Evolved Hamiltonian is not composed of only Paulis, converting to Pauli representation, which can be expensive.\n",
      "Evolved Hamiltonian is not composed of only Paulis, converting to Pauli representation, which can be expensive.\n",
      "Evolved Hamiltonian is not composed of only Paulis, converting to Pauli representation, which can be expensive.\n",
      "Evolved Hamiltonian is not composed of only Paulis, converting to Pauli representation, which can be expensive.\n",
      "Evolved Hamiltonian is not composed of only Paulis, converting to Pauli representation, which can be expensive.\n",
      "Evolved Hamiltonian is not composed of only Paulis, converting to Pauli representation, which can be expensive.\n",
      "Evolved Hamiltonian is not composed of only Paulis, converting to Pauli representation, which can be expensive.\n",
      "Evolved Hamiltonian is not composed of only Paulis, converting to Pauli representation, which can be expensive.\n",
      "Evolved Hamiltonian is not composed of only Paulis, converting to Pauli representation, which can be expensive.\n",
      "Evolved Hamiltonian is not composed of only Paulis, converting to Pauli representation, which can be expensive.\n",
      "Evolved Hamiltonian is not composed of only Paulis, converting to Pauli representation, which can be expensive.\n",
      "Evolved Hamiltonian is not composed of only Paulis, converting to Pauli representation, which can be expensive.\n",
      "Evolved Hamiltonian is not composed of only Paulis, converting to Pauli representation, which can be expensive.\n",
      "Evolved Hamiltonian is not composed of only Paulis, converting to Pauli representation, which can be expensive.\n",
      "Evolved Hamiltonian is not composed of only Paulis, converting to Pauli representation, which can be expensive.\n",
      "Evolved Hamiltonian is not composed of only Paulis, converting to Pauli representation, which can be expensive.\n",
      "Evolved Hamiltonian is not composed of only Paulis, converting to Pauli representation, which can be expensive.\n",
      "Evolved Hamiltonian is not composed of only Paulis, converting to Pauli representation, which can be expensive.\n",
      "Evolved Hamiltonian is not composed of only Paulis, converting to Pauli representation, which can be expensive.\n",
      "Evolved Hamiltonian is not composed of only Paulis, converting to Pauli representation, which can be expensive.\n",
      "Evolved Hamiltonian is not composed of only Paulis, converting to Pauli representation, which can be expensive.\n",
      "Evolved Hamiltonian is not composed of only Paulis, converting to Pauli representation, which can be expensive.\n",
      "Evolved Hamiltonian is not composed of only Paulis, converting to Pauli representation, which can be expensive.\n",
      "Evolved Hamiltonian is not composed of only Paulis, converting to Pauli representation, which can be expensive.\n",
      "Evolved Hamiltonian is not composed of only Paulis, converting to Pauli representation, which can be expensive.\n",
      "Evolved Hamiltonian is not composed of only Paulis, converting to Pauli representation, which can be expensive.\n",
      "Evolved Hamiltonian is not composed of only Paulis, converting to Pauli representation, which can be expensive.\n",
      "Evolved Hamiltonian is not composed of only Paulis, converting to Pauli representation, which can be expensive.\n",
      "Evolved Hamiltonian is not composed of only Paulis, converting to Pauli representation, which can be expensive.\n"
     ]
    },
    {
     "name": "stderr",
     "output_type": "stream",
     "text": [
      "Evolved Hamiltonian is not composed of only Paulis, converting to Pauli representation, which can be expensive.\n",
      "Evolved Hamiltonian is not composed of only Paulis, converting to Pauli representation, which can be expensive.\n",
      "Evolved Hamiltonian is not composed of only Paulis, converting to Pauli representation, which can be expensive.\n",
      "Evolved Hamiltonian is not composed of only Paulis, converting to Pauli representation, which can be expensive.\n",
      "Evolved Hamiltonian is not composed of only Paulis, converting to Pauli representation, which can be expensive.\n",
      "Evolved Hamiltonian is not composed of only Paulis, converting to Pauli representation, which can be expensive.\n",
      "Evolved Hamiltonian is not composed of only Paulis, converting to Pauli representation, which can be expensive.\n",
      "Evolved Hamiltonian is not composed of only Paulis, converting to Pauli representation, which can be expensive.\n",
      "Evolved Hamiltonian is not composed of only Paulis, converting to Pauli representation, which can be expensive.\n",
      "Evolved Hamiltonian is not composed of only Paulis, converting to Pauli representation, which can be expensive.\n",
      "Evolved Hamiltonian is not composed of only Paulis, converting to Pauli representation, which can be expensive.\n",
      "Evolved Hamiltonian is not composed of only Paulis, converting to Pauli representation, which can be expensive.\n",
      "Evolved Hamiltonian is not composed of only Paulis, converting to Pauli representation, which can be expensive.\n"
     ]
    }
   ],
   "source": [
    "reps = 2\n",
    "expectation = get_expectation(G,reps,shots=512)\n",
    "\n",
    "res = minimize(expectation, \n",
    "                      [1. for _ in range(reps*4)], \n",
    "                      method='COBYLA')"
   ]
  },
  {
   "cell_type": "code",
   "execution_count": 50,
   "id": "8dd85a3c",
   "metadata": {},
   "outputs": [
    {
     "data": {
      "text/plain": [
       "     fun: 2.300752570895368\n",
       "   maxcv: 0.0\n",
       " message: 'Optimization terminated successfully.'\n",
       "    nfev: 87\n",
       "  status: 1\n",
       " success: True\n",
       "       x: array([1.        , 1.        , 1.        , 1.        , 2.25424868,\n",
       "       0.5714522 , 1.        , 0.95788775])"
      ]
     },
     "execution_count": 50,
     "metadata": {},
     "output_type": "execute_result"
    }
   ],
   "source": [
    "res"
   ]
  },
  {
   "cell_type": "code",
   "execution_count": 51,
   "id": "b9e5d97e",
   "metadata": {},
   "outputs": [
    {
     "name": "stderr",
     "output_type": "stream",
     "text": [
      "Evolved Hamiltonian is not composed of only Paulis, converting to Pauli representation, which can be expensive.\n"
     ]
    },
    {
     "data": {
      "image/png": "[encoded data removed]",
      "text/plain": [
       "<Figure size 504x360 with 1 Axes>"
      ]
     },
     "execution_count": 51,
     "metadata": {},
     "output_type": "execute_result"
    }
   ],
   "source": [
    "fig,counts = analyse_result(G,res.x,transform_labels_to_path=True)\n",
    "fig"
   ]
  },
  {
   "cell_type": "code",
   "execution_count": 52,
   "id": "13e9a6cf",
   "metadata": {},
   "outputs": [
    {
     "name": "stdout",
     "output_type": "stream",
     "text": [
      "[0, 2, 1, 3] : 222    cost = 2.88\n",
      "[0, 1, 2, 3] : 440    cost = 2.41\n",
      "[1, 0, 2, 3] : 362    cost = 1.92\n"
     ]
    }
   ],
   "source": [
    "for key, val in counts.items():\n",
    "    if val>1:\n",
    "        path = bitstring_to_path(key)\n",
    "        print(path,':', val , f\"   cost = {round(cost(G,path),2)}\")"
   ]
  },
  {
   "cell_type": "code",
   "execution_count": 53,
   "id": "e5e51023",
   "metadata": {},
   "outputs": [
    {
     "name": "stdout",
     "output_type": "stream",
     "text": [
      "(0, 1, 2, 3) : 2.4140683676629897\n",
      "(0, 1, 3, 2) : 1.9231342946364431\n",
      "(0, 2, 1, 3) : 2.877519871035242\n",
      "(0, 2, 3, 1) : 1.9231342946364431\n",
      "(0, 3, 1, 2) : 2.877519871035242\n",
      "(0, 3, 2, 1) : 2.4140683676629897\n",
      "(1, 0, 2, 3) : 1.923134294636443\n",
      "(1, 0, 3, 2) : 2.4140683676629897\n",
      "(1, 2, 0, 3) : 2.877519871035242\n",
      "(1, 2, 3, 0) : 2.4140683676629897\n",
      "(1, 3, 0, 2) : 2.8775198710352425\n",
      "(1, 3, 2, 0) : 1.923134294636443\n",
      "(2, 0, 1, 3) : 1.923134294636443\n",
      "(2, 0, 3, 1) : 2.8775198710352425\n",
      "(2, 1, 0, 3) : 2.4140683676629897\n",
      "(2, 1, 3, 0) : 2.877519871035242\n",
      "(2, 3, 0, 1) : 2.4140683676629897\n",
      "(2, 3, 1, 0) : 1.923134294636443\n",
      "(3, 0, 1, 2) : 2.4140683676629897\n",
      "(3, 0, 2, 1) : 2.877519871035242\n",
      "(3, 1, 0, 2) : 1.9231342946364431\n",
      "(3, 1, 2, 0) : 2.877519871035242\n",
      "(3, 2, 0, 1) : 1.923134294636443\n",
      "(3, 2, 1, 0) : 2.4140683676629897\n"
     ]
    }
   ],
   "source": [
    "from itertools import permutations\n",
    "for p in permutations([0,1,2,3]):\n",
    "    print(p,':',cost(G,p))"
   ]
  },
  {
   "cell_type": "code",
   "execution_count": 54,
   "id": "d8c36fed",
   "metadata": {},
   "outputs": [
    {
     "data": {
      "text/plain": [
       "([1, 0, 2, 3], 1.923134294636443)"
      ]
     },
     "execution_count": 54,
     "metadata": {},
     "output_type": "execute_result"
    }
   ],
   "source": [
    "solve_tsp_classical(G)"
   ]
  },
  {
   "cell_type": "code",
   "execution_count": 55,
   "id": "58a236ac",
   "metadata": {},
   "outputs": [],
   "source": [
    "from qiskit.algorithms import QAOA\n",
    "from qiskit.algorithms.optimizers import COBYLA\n",
    "from alternating_operator import create_initial_state_circuit,create_mixer_operator,create_phase_separator\n",
    "from qaoa import build_cost\n",
    "from qiskit.circuit import Parameter\n",
    "from qiskit import Aer"
   ]
  },
  {
   "cell_type": "code",
   "execution_count": 56,
   "id": "9da752f9",
   "metadata": {},
   "outputs": [],
   "source": [
    "qaoa = QAOA(optimizer=COBYLA(),reps=2,initial_state =create_initial_state_circuit(4),mixer = create_mixer_operator(4),quantum_instance=Aer.get_backend('aer_simulator'))"
   ]
  },
  {
   "cell_type": "code",
   "execution_count": 58,
   "id": "0815c796",
   "metadata": {
    "scrolled": true
   },
   "outputs": [
    {
     "ename": "ValueError",
     "evalue": "Mismatching number of values and parameters. For partial binding please pass a dictionary of {parameter: value} pairs.",
     "output_type": "error",
     "traceback": [
      "\u001b[1;31m---------------------------------------------------------------------------\u001b[0m",
      "\u001b[1;31mValueError\u001b[0m                                Traceback (most recent call last)",
      "Input \u001b[1;32mIn [58]\u001b[0m, in \u001b[0;36m<cell line: 7>\u001b[1;34m()\u001b[0m\n\u001b[0;32m      3\u001b[0m phase_sep \u001b[38;5;241m=\u001b[39m create_phase_separator(G)\n\u001b[0;32m      5\u001b[0m params \u001b[38;5;241m=\u001b[39m [Parameter(i) \u001b[38;5;28;01mfor\u001b[39;00m i \u001b[38;5;129;01min\u001b[39;00m [\u001b[38;5;124m'\u001b[39m\u001b[38;5;124ma\u001b[39m\u001b[38;5;124m'\u001b[39m,\u001b[38;5;124m'\u001b[39m\u001b[38;5;124mb\u001b[39m\u001b[38;5;124m'\u001b[39m,\u001b[38;5;124m'\u001b[39m\u001b[38;5;124mc\u001b[39m\u001b[38;5;124m'\u001b[39m,\u001b[38;5;124m'\u001b[39m\u001b[38;5;124md\u001b[39m\u001b[38;5;124m'\u001b[39m]]\n\u001b[1;32m----> 7\u001b[0m qc \u001b[38;5;241m=\u001b[39m \u001b[43mqaoa\u001b[49m\u001b[38;5;241;43m.\u001b[39;49m\u001b[43mconstruct_circuit\u001b[49m\u001b[43m(\u001b[49m\u001b[43mparams\u001b[49m\u001b[43m,\u001b[49m\u001b[43mphase_sep\u001b[49m\u001b[43m)\u001b[49m[\u001b[38;5;241m0\u001b[39m]\n",
      "File \u001b[1;32m~\\Anaconda3\\envs\\qaoa\\lib\\site-packages\\qiskit\\algorithms\\minimum_eigen_solvers\\vqe.py:463\u001b[0m, in \u001b[0;36mVQE.construct_circuit\u001b[1;34m(self, parameter, operator)\u001b[0m\n\u001b[0;32m    449\u001b[0m \u001b[38;5;28;01mdef\u001b[39;00m \u001b[38;5;21mconstruct_circuit\u001b[39m(\n\u001b[0;32m    450\u001b[0m     \u001b[38;5;28mself\u001b[39m,\n\u001b[0;32m    451\u001b[0m     parameter: Union[List[\u001b[38;5;28mfloat\u001b[39m], List[Parameter], np\u001b[38;5;241m.\u001b[39mndarray],\n\u001b[0;32m    452\u001b[0m     operator: OperatorBase,\n\u001b[0;32m    453\u001b[0m ) \u001b[38;5;241m-\u001b[39m\u001b[38;5;241m>\u001b[39m List[QuantumCircuit]:\n\u001b[0;32m    454\u001b[0m     \u001b[38;5;124;03m\"\"\"Return the circuits used to compute the expectation value.\u001b[39;00m\n\u001b[0;32m    455\u001b[0m \n\u001b[0;32m    456\u001b[0m \u001b[38;5;124;03m    Args:\u001b[39;00m\n\u001b[1;32m   (...)\u001b[0m\n\u001b[0;32m    461\u001b[0m \u001b[38;5;124;03m        A list of the circuits used to compute the expectation value.\u001b[39;00m\n\u001b[0;32m    462\u001b[0m \u001b[38;5;124;03m    \"\"\"\u001b[39;00m\n\u001b[1;32m--> 463\u001b[0m     expect_op \u001b[38;5;241m=\u001b[39m \u001b[38;5;28;43mself\u001b[39;49m\u001b[38;5;241;43m.\u001b[39;49m\u001b[43mconstruct_expectation\u001b[49m\u001b[43m(\u001b[49m\u001b[43mparameter\u001b[49m\u001b[43m,\u001b[49m\u001b[43m \u001b[49m\u001b[43moperator\u001b[49m\u001b[43m)\u001b[49m\u001b[38;5;241m.\u001b[39mto_circuit_op()\n\u001b[0;32m    465\u001b[0m     circuits \u001b[38;5;241m=\u001b[39m []\n\u001b[0;32m    467\u001b[0m     \u001b[38;5;66;03m# recursively extract circuits\u001b[39;00m\n",
      "File \u001b[1;32m~\\Anaconda3\\envs\\qaoa\\lib\\site-packages\\qiskit\\algorithms\\minimum_eigen_solvers\\vqe.py:438\u001b[0m, in \u001b[0;36mVQE.construct_expectation\u001b[1;34m(self, parameter, operator, return_expectation)\u001b[0m\n\u001b[0;32m    435\u001b[0m \u001b[38;5;28;01melse\u001b[39;00m:\n\u001b[0;32m    436\u001b[0m     expectation \u001b[38;5;241m=\u001b[39m \u001b[38;5;28mself\u001b[39m\u001b[38;5;241m.\u001b[39mexpectation\n\u001b[1;32m--> 438\u001b[0m wave_function \u001b[38;5;241m=\u001b[39m \u001b[38;5;28;43mself\u001b[39;49m\u001b[38;5;241;43m.\u001b[39;49m\u001b[43mansatz\u001b[49m\u001b[38;5;241;43m.\u001b[39;49m\u001b[43massign_parameters\u001b[49m\u001b[43m(\u001b[49m\u001b[43mparameter\u001b[49m\u001b[43m)\u001b[49m\n\u001b[0;32m    440\u001b[0m observable_meas \u001b[38;5;241m=\u001b[39m expectation\u001b[38;5;241m.\u001b[39mconvert(StateFn(operator, is_measurement\u001b[38;5;241m=\u001b[39m\u001b[38;5;28;01mTrue\u001b[39;00m))\n\u001b[0;32m    441\u001b[0m ansatz_circuit_op \u001b[38;5;241m=\u001b[39m CircuitStateFn(wave_function)\n",
      "File \u001b[1;32m~\\Anaconda3\\envs\\qaoa\\lib\\site-packages\\qiskit\\circuit\\quantumcircuit.py:2483\u001b[0m, in \u001b[0;36mQuantumCircuit.assign_parameters\u001b[1;34m(self, parameters, inplace)\u001b[0m\n\u001b[0;32m   2481\u001b[0m \u001b[38;5;28;01melse\u001b[39;00m:\n\u001b[0;32m   2482\u001b[0m     \u001b[38;5;28;01mif\u001b[39;00m \u001b[38;5;28mlen\u001b[39m(parameters) \u001b[38;5;241m!=\u001b[39m \u001b[38;5;28mself\u001b[39m\u001b[38;5;241m.\u001b[39mnum_parameters:\n\u001b[1;32m-> 2483\u001b[0m         \u001b[38;5;28;01mraise\u001b[39;00m \u001b[38;5;167;01mValueError\u001b[39;00m(\n\u001b[0;32m   2484\u001b[0m             \u001b[38;5;124m\"\u001b[39m\u001b[38;5;124mMismatching number of values and parameters. For partial binding \u001b[39m\u001b[38;5;124m\"\u001b[39m\n\u001b[0;32m   2485\u001b[0m             \u001b[38;5;124m\"\u001b[39m\u001b[38;5;124mplease pass a dictionary of \u001b[39m\u001b[38;5;124m{\u001b[39m\u001b[38;5;124mparameter: value} pairs.\u001b[39m\u001b[38;5;124m\"\u001b[39m\n\u001b[0;32m   2486\u001b[0m         )\n\u001b[0;32m   2487\u001b[0m     \u001b[38;5;66;03m# use a copy of the parameters, to ensure we don't change the contents of\u001b[39;00m\n\u001b[0;32m   2488\u001b[0m     \u001b[38;5;66;03m# self.parameters while iterating over them\u001b[39;00m\n\u001b[0;32m   2489\u001b[0m     fixed_parameters_copy \u001b[38;5;241m=\u001b[39m \u001b[38;5;28mself\u001b[39m\u001b[38;5;241m.\u001b[39mparameters\u001b[38;5;241m.\u001b[39mcopy()\n",
      "\u001b[1;31mValueError\u001b[0m: Mismatching number of values and parameters. For partial binding please pass a dictionary of {parameter: value} pairs."
     ]
    }
   ],
   "source": [
    "cost_ham = build_cost(1.,3,G)\n",
    "\n",
    "phase_sep = create_phase_separator(G)\n",
    "\n",
    "params = [Parameter(i) for i in ['a','b','c','d']]\n",
    "\n",
    "qc = qaoa.construct_circuit(params,phase_sep)[0]"
   ]
  },
  {
   "cell_type": "code",
   "execution_count": 59,
   "id": "a6cbee2a",
   "metadata": {},
   "outputs": [],
   "source": [
    "res = qaoa.compute_minimum_eigenvalue(phase_sep)"
   ]
  },
  {
   "cell_type": "code",
   "execution_count": 60,
   "id": "ebbb9afa",
   "metadata": {},
   "outputs": [
    {
     "data": {
      "text/plain": [
       "{'0010100001000001': 0.09882117688026186,\n",
       " '0100001010000001': 0.03125,\n",
       " '0100100000010010': 0.11267347735824966,\n",
       " '0100100000100001': 0.32021721143623744,\n",
       " '1000000101000010': 0.06987712429686843,\n",
       " '1000001000010100': 0.03125,\n",
       " '1000001001000001': 0.27775607554111215,\n",
       " '1000010000010010': 0.32021721143623744,\n",
       " '1000010000100001': 0.8297448779594846}"
      ]
     },
     "execution_count": 60,
     "metadata": {},
     "output_type": "execute_result"
    }
   ],
   "source": [
    "res.eigenstate"
   ]
  },
  {
   "cell_type": "code",
   "execution_count": 61,
   "id": "10da485a",
   "metadata": {},
   "outputs": [],
   "source": [
    "from collections import OrderedDict\n",
    "import numpy as np\n",
    "def sample_most_likely(state_vector):\n",
    "    \"\"\"Compute the most likely binary string from state vector.\n",
    "    Args:\n",
    "        state_vector (numpy.ndarray or dict): state vector or counts.\n",
    "    Returns:\n",
    "        numpy.ndarray: binary string as numpy.ndarray of ints.\n",
    "    \"\"\"\n",
    "    if isinstance(state_vector, (OrderedDict, dict)):\n",
    "        # get the binary string with the largest count\n",
    "        binary_string = sorted(state_vector.items(), key=lambda kv: kv[1])[-1][0]\n",
    "        x = np.asarray([int(y) for y in reversed(list(binary_string))])\n",
    "        return x\n",
    "    elif isinstance(state_vector, StateFn):\n",
    "        binary_string = list(state_vector.sample().keys())[0]\n",
    "        x = np.asarray([int(y) for y in reversed(list(binary_string))])\n",
    "        return x\n",
    "    else:\n",
    "        n = int(np.log2(state_vector.shape[0]))\n",
    "        k = np.argmax(np.abs(state_vector))\n",
    "        x = np.zeros(n)\n",
    "        for i in range(n):\n",
    "            x[i] = k % 2\n",
    "            k >>= 1\n",
    "        return x"
   ]
  },
  {
   "cell_type": "code",
   "execution_count": 62,
   "id": "952f2ed6",
   "metadata": {},
   "outputs": [],
   "source": [
    "x = sample_most_likely(res.eigenstate)"
   ]
  },
  {
   "cell_type": "code",
   "execution_count": 63,
   "id": "a08c7b11",
   "metadata": {},
   "outputs": [
    {
     "data": {
      "image/png": "[encoded data removed]",
      "text/plain": [
       "<Figure size 504x360 with 1 Axes>"
      ]
     },
     "execution_count": 63,
     "metadata": {},
     "output_type": "execute_result"
    }
   ],
   "source": [
    "plot_histogram(res.eigenstate, title='Result of Optimization')"
   ]
  },
  {
   "cell_type": "code",
   "execution_count": 64,
   "id": "81b7ea7e",
   "metadata": {},
   "outputs": [
    {
     "data": {
      "text/plain": [
       "array([1, 0, 0, 0, 0, 1, 0, 0, 0, 0, 1, 0, 0, 0, 0, 1])"
      ]
     },
     "execution_count": 64,
     "metadata": {},
     "output_type": "execute_result"
    }
   ],
   "source": [
    "x"
   ]
  }
 ],
 "metadata": {
  "kernelspec": {
   "display_name": "Python 3 (ipykernel)",
   "language": "python",
   "name": "python3"
  },
  "language_info": {
   "codemirror_mode": {
    "name": "ipython",
    "version": 3
   },
   "file_extension": ".py",
   "mimetype": "text/x-python",
   "name": "python",
   "nbconvert_exporter": "python",
   "pygments_lexer": "ipython3",
   "version": "3.9.12"
  }
 },
 "nbformat": 4,
 "nbformat_minor": 5
}
