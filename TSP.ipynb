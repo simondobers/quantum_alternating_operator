{
 "cells": [
  {
   "cell_type": "code",
   "execution_count": 26,
   "id": "03e01a30",
   "metadata": {},
   "outputs": [
    {
     "name": "stdout",
     "output_type": "stream",
     "text": [
      "The autoreload extension is already loaded. To reload it, use:\n",
      "  %reload_ext autoreload\n"
     ]
    }
   ],
   "source": [
    "%load_ext autoreload\n",
    "%autoreload 2\n",
    "from helper import create_tsp_graph,plot_tsp_graph,bitstring_to_path,cost\n",
    "from classical import solve_tsp_classical\n",
    "from alternating_operator import get_expectation,analyse_result,create_qaoa_circ\n",
    "from scipy.optimize import minimize\n",
    "from qiskit.tools.visualization import plot_histogram\n",
    "from qiskit import transpile,Aer\n",
    "from qaoa import get_expectation_qaoa,create_classical_qaoa_circ\n",
    "import pickle\n",
    "from numpy.random import rand"
   ]
  },
  {
   "cell_type": "code",
   "execution_count": 87,
   "id": "bb098260",
   "metadata": {},
   "outputs": [],
   "source": [
    "reps = 2\n",
    "ncities = 4"
   ]
  },
  {
   "cell_type": "code",
   "execution_count": 88,
   "id": "211ae3b6",
   "metadata": {},
   "outputs": [],
   "source": [
    "G = create_tsp_graph(ncities)"
   ]
  },
  {
   "cell_type": "code",
   "execution_count": 89,
   "id": "658cc5ce",
   "metadata": {},
   "outputs": [
    {
     "data": {
      "image/png": "[encoded data removed]",
      "text/plain": [
       "<Figure size 432x288 with 1 Axes>"
      ]
     },
     "metadata": {},
     "output_type": "display_data"
    }
   ],
   "source": [
    "plot_tsp_graph(G)"
   ]
  },
  {
   "cell_type": "code",
   "execution_count": 90,
   "id": "54537336",
   "metadata": {
    "scrolled": true
   },
   "outputs": [
    {
     "name": "stderr",
     "output_type": "stream",
     "text": [
      "Evolved Hamiltonian is not composed of only Paulis, converting to Pauli representation, which can be expensive.\n"
     ]
    },
    {
     "name": "stdout",
     "output_type": "stream",
     "text": [
      "Current expected cost: 214.75\n",
      "Current expected cost: 214.75\n",
      "Current expected cost: 214.75\n",
      "Current expected cost: 214.75\n",
      "Current expected cost: 214.75\n",
      "Current expected cost: 185.56\n",
      "Current expected cost: 191.51\n",
      "Current expected cost: 185.56\n",
      "Current expected cost: 183.3\n",
      "Current expected cost: 190.9\n",
      "Current expected cost: 188.1\n",
      "Current expected cost: 183.3\n",
      "Current expected cost: 180.82\n",
      "Current expected cost: 180.82\n",
      "Current expected cost: 199.72\n",
      "Current expected cost: 180.82\n",
      "Current expected cost: 200.85\n",
      "Current expected cost: 220.16\n",
      "Current expected cost: 204.53\n",
      "Current expected cost: 196.46\n",
      "Current expected cost: 180.82\n",
      "Current expected cost: 191.52\n",
      "Current expected cost: 200.51\n",
      "Current expected cost: 180.63\n",
      "Current expected cost: 212.7\n",
      "Current expected cost: 187.86\n",
      "Current expected cost: 197.19\n",
      "Current expected cost: 180.63\n",
      "Current expected cost: 191.26\n",
      "Current expected cost: 180.63\n",
      "Current expected cost: 200.99\n",
      "Current expected cost: 180.63\n",
      "Current expected cost: 215.89\n",
      "Current expected cost: 189.92\n",
      "Current expected cost: 184.94\n",
      "Current expected cost: 180.63\n",
      "Current expected cost: 203.12\n",
      "Current expected cost: 207.74\n",
      "Current expected cost: 179.78\n",
      "Current expected cost: 184.02\n",
      "Current expected cost: 179.78\n",
      "Current expected cost: 205.59\n",
      "Current expected cost: 179.78\n",
      "Current expected cost: 189.34\n",
      "Current expected cost: 179.78\n",
      "Current expected cost: 189.34\n",
      "Current expected cost: 173.54\n",
      "Current expected cost: 191.08\n",
      "Current expected cost: 174.71\n",
      "Current expected cost: 207.36\n",
      "Current expected cost: 176.53\n",
      "Current expected cost: 180.51\n",
      "Current expected cost: 191.31\n",
      "Current expected cost: 177.24\n",
      "Current expected cost: 173.18\n",
      "Current expected cost: 174.82\n",
      "Current expected cost: 173.18\n",
      "Current expected cost: 173.55\n",
      "Current expected cost: 173.27\n",
      "Current expected cost: 173.98\n",
      "Current expected cost: 171.65\n",
      "Current expected cost: 174.91\n",
      "Current expected cost: 171.65\n",
      "Current expected cost: 174.17\n",
      "Current expected cost: 173.72\n",
      "Current expected cost: 173.72\n",
      "Current expected cost: 170.03\n",
      "Current expected cost: 170.75\n",
      "Current expected cost: 171.12\n",
      "Current expected cost: 170.75\n",
      "Current expected cost: 170.75\n",
      "Current expected cost: 171.02\n",
      "Current expected cost: 170.39\n",
      "Current expected cost: 170.3\n",
      "Current expected cost: 170.21\n",
      "Current expected cost: 171.56\n",
      "Current expected cost: 170.21\n",
      "Current expected cost: 171.21\n",
      "Current expected cost: 170.48\n",
      "Current expected cost: 170.21\n",
      "Current expected cost: 170.3\n",
      "Current expected cost: 170.21\n",
      "Current expected cost: 170.3\n",
      "Current expected cost: 170.3\n",
      "Current expected cost: 170.21\n",
      "Current expected cost: 170.3\n",
      "Current expected cost: 170.12\n",
      "Current expected cost: 170.12\n",
      "Current expected cost: 170.3\n",
      "Current expected cost: 170.12\n",
      "Current expected cost: 170.21\n",
      "Current expected cost: 169.94\n",
      "Current expected cost: 169.94\n",
      "Current expected cost: 170.12\n",
      "Current expected cost: 170.21\n",
      "Current expected cost: 170.03\n",
      "Current expected cost: 170.3\n",
      "Current expected cost: 170.03\n",
      "Current expected cost: 170.03\n",
      "Current expected cost: 170.12\n",
      "Current expected cost: 170.3\n",
      "Current expected cost: 170.12\n",
      "Current expected cost: 169.94\n",
      "Current expected cost: 170.12\n",
      "Current expected cost: 170.03\n",
      "Current expected cost: 169.94\n",
      "Current expected cost: 170.03\n",
      "Current expected cost: 169.94\n",
      "Current expected cost: 170.12\n",
      "Current expected cost: 170.03\n",
      "Current expected cost: 169.94\n",
      "Current expected cost: 170.03\n",
      "Current expected cost: 169.94\n",
      "Current expected cost: 169.94\n",
      "Current expected cost: 169.94\n",
      "Current expected cost: 169.94\n",
      "Current expected cost: 169.94\n"
     ]
    }
   ],
   "source": [
    "expectation = get_expectation(G,reps,shots=1024,log_intermediate_counts=True)\n",
    "\n",
    "res = minimize(expectation,\n",
    "               [1. if i<reps*2 else np.random.rand()*2 for i in range(reps*4)],\n",
    "                      method='COBYLA',\n",
    "                      options = {'tol' : 1e-6,'disp' : True})"
   ]
  },
  {
   "cell_type": "code",
   "execution_count": 91,
   "id": "ec93d43a",
   "metadata": {},
   "outputs": [],
   "source": [
    "with open(\".\\data\\G\", \"wb\") as fp:   #Pickling\n",
    "    pickle.dump(G,fp)"
   ]
  },
  {
   "cell_type": "code",
   "execution_count": 92,
   "id": "8dd85a3c",
   "metadata": {
    "scrolled": true
   },
   "outputs": [
    {
     "data": {
      "text/plain": [
       "     fun: 169.94304627570799\n",
       "   maxcv: 0.0\n",
       " message: 'Optimization terminated successfully.'\n",
       "    nfev: 117\n",
       "  status: 1\n",
       " success: True\n",
       "       x: array([1.31958653, 1.31878708, 0.76639748, 0.76706084, 1.77973738,\n",
       "       1.30082216, 1.47561448, 2.41421993])"
      ]
     },
     "execution_count": 92,
     "metadata": {},
     "output_type": "execute_result"
    }
   ],
   "source": [
    "res"
   ]
  },
  {
   "cell_type": "code",
   "execution_count": 93,
   "id": "b9e5d97e",
   "metadata": {},
   "outputs": [
    {
     "name": "stderr",
     "output_type": "stream",
     "text": [
      "Evolved Hamiltonian is not composed of only Paulis, converting to Pauli representation, which can be expensive.\n"
     ]
    },
    {
     "data": {
      "image/png": "[encoded data removed]",
      "text/plain": [
       "<Figure size 504x360 with 1 Axes>"
      ]
     },
     "execution_count": 93,
     "metadata": {},
     "output_type": "execute_result"
    }
   ],
   "source": [
    "fig,counts = analyse_result(G,res.x,reps=reps,transform_labels_to_path=True,filter_unique_path=True,save_plot=True)\n",
    "fig"
   ]
  },
  {
   "cell_type": "code",
   "execution_count": 94,
   "id": "13e9a6cf",
   "metadata": {},
   "outputs": [
    {
     "name": "stdout",
     "output_type": "stream",
     "text": [
      "[2, 3, 0, 1] : 345    cost = 220.96\n",
      "[2, 0, 1, 3] : 109    cost = 221.64\n",
      "[0, 2, 1, 3] : 570    cost = 129.18\n"
     ]
    }
   ],
   "source": [
    "for key, val in counts.items():\n",
    "    if val>1:\n",
    "        path = bitstring_to_path(key)\n",
    "        print(path,':', val , f\"   cost = {round(cost(G,path),2)}\")"
   ]
  },
  {
   "cell_type": "code",
   "execution_count": 95,
   "id": "d8c36fed",
   "metadata": {},
   "outputs": [
    {
     "data": {
      "text/plain": [
       "([0, 2, 1, 3], 129.17590372653362)"
      ]
     },
     "execution_count": 95,
     "metadata": {},
     "output_type": "execute_result"
    }
   ],
   "source": [
    "solve_tsp_classical(G)"
   ]
  },
  {
   "cell_type": "code",
   "execution_count": null,
   "id": "94250a39",
   "metadata": {},
   "outputs": [],
   "source": []
  },
  {
   "cell_type": "code",
   "execution_count": 98,
   "id": "aa53ce78",
   "metadata": {},
   "outputs": [
    {
     "name": "stdout",
     "output_type": "stream",
     "text": [
      "Current expected cost: 318.07\n",
      "Current expected cost: 318.25\n",
      "Current expected cost: 318.25\n",
      "Current expected cost: 318.07\n",
      "Current expected cost: 318.06\n",
      "Current expected cost: 313.6\n",
      "Current expected cost: 318.25\n",
      "Current expected cost: 318.25\n",
      "Current expected cost: 318.07\n",
      "Current expected cost: 313.6\n",
      "Current expected cost: 317.69\n",
      "Current expected cost: 281.86\n",
      "Current expected cost: 310.08\n",
      "Current expected cost: 275.59\n",
      "Current expected cost: 221.34\n",
      "Current expected cost: 279.96\n",
      "Current expected cost: 222.77\n",
      "Current expected cost: 221.15\n",
      "Current expected cost: 244.24\n",
      "Current expected cost: 235.31\n",
      "Current expected cost: 225.62\n",
      "Current expected cost: 221.15\n",
      "Current expected cost: 224.01\n",
      "Current expected cost: 223.15\n",
      "Current expected cost: 221.15\n",
      "Current expected cost: 221.34\n",
      "Current expected cost: 221.06\n",
      "Current expected cost: 221.06\n",
      "Current expected cost: 221.06\n",
      "Current expected cost: 221.06\n",
      "Current expected cost: 221.15\n",
      "Current expected cost: 221.06\n",
      "Current expected cost: 221.06\n",
      "Current expected cost: 221.06\n",
      "Current expected cost: 221.06\n",
      "Current expected cost: 221.06\n",
      "Current expected cost: 221.06\n",
      "Current expected cost: 221.06\n",
      "Current expected cost: 221.06\n",
      "Current expected cost: 221.06\n"
     ]
    }
   ],
   "source": [
    "expectation_qaoa = get_expectation_qaoa(G,reps,shots=1024,penalty=0.5,log_intermediate_counts=True)\n",
    "\n",
    "res_qaoa = minimize(expectation_qaoa,\n",
    "               [1 for _ in range(reps*2)] ,\n",
    "                      method='COBYLA',\n",
    "                      options = {'tol' : 1e-4,'disp' : True})"
   ]
  },
  {
   "cell_type": "code",
   "execution_count": 99,
   "id": "50c8cfd6",
   "metadata": {},
   "outputs": [
    {
     "data": {
      "text/plain": [
       "     fun: 221.0598270149642\n",
       "   maxcv: 0.0\n",
       " message: 'Optimization terminated successfully.'\n",
       "    nfev: 40\n",
       "  status: 1\n",
       " success: True\n",
       "       x: array([-0.0078852 ,  0.00219782,  1.00112483,  1.8149632 ])"
      ]
     },
     "execution_count": 99,
     "metadata": {},
     "output_type": "execute_result"
    }
   ],
   "source": [
    "res_qaoa"
   ]
  },
  {
   "cell_type": "code",
   "execution_count": 100,
   "id": "d5046292",
   "metadata": {},
   "outputs": [
    {
     "name": "stderr",
     "output_type": "stream",
     "text": [
      "Evolved Hamiltonian is not composed of only Paulis, converting to Pauli representation, which can be expensive.\n"
     ]
    },
    {
     "data": {
      "image/png": "[encoded data removed]",
      "text/plain": [
       "<Figure size 504x360 with 1 Axes>"
      ]
     },
     "execution_count": 100,
     "metadata": {},
     "output_type": "execute_result"
    }
   ],
   "source": [
    "fig,counts = analyse_result(G,np.hstack([np.array([1. for _ in range(reps*2)]),res_qaoa.x]),reps=reps,transform_labels_to_path=True,filter_unique_path=True)\n",
    "fig"
   ]
  },
  {
   "cell_type": "markdown",
   "id": "11623472",
   "metadata": {},
   "source": [
    "## If 0,1,2,3,4 is \"good\" -> the algorithm almost always converges to that value "
   ]
  },
  {
   "cell_type": "code",
   "execution_count": 223,
   "id": "8fd1daf2",
   "metadata": {},
   "outputs": [],
   "source": [
    "def compute_circuit_sizes(ncities_max=6,reps=1):\n",
    "    sizes_alternating_operator = []\n",
    "    sizes_qaoa = []\n",
    "    simulator = Aer.get_backend('aer_simulator')\n",
    "    x = []\n",
    "    \n",
    "    for ncities in range(2,ncities_max+1,1):\n",
    "        G = create_tsp_graph(ncities)\n",
    "        x.append(ncities)\n",
    "        \n",
    "        alt_op = create_qaoa_circ(G,reps=reps)\n",
    "        alt_op = transpile(alt_op, simulator,optimization_level = 3)\n",
    "        sizes_alternating_operator.append(alt_op.depth())\n",
    "        \n",
    "        qaoa = create_classical_qaoa_circ(G,reps=reps)\n",
    "        qaoa = transpile(qaoa, simulator,optimization_level = 1)\n",
    "        sizes_qaoa.append(qaoa.depth())\n",
    "    \n",
    "    \n",
    "    return (x,sizes_alternating_operator,sizes_qaoa)\n",
    "        "
   ]
  },
  {
   "cell_type": "code",
   "execution_count": 225,
   "id": "998741f8",
   "metadata": {},
   "outputs": [
    {
     "data": {
      "text/plain": [
       "([2, 3, 4, 5], [136, 771, 1656, 2738], [12, 37, 85, 211])"
      ]
     },
     "execution_count": 225,
     "metadata": {},
     "output_type": "execute_result"
    }
   ],
   "source": [
    "compute_circuit_sizes(5,2)"
   ]
  },
  {
   "cell_type": "code",
   "execution_count": null,
   "id": "a7244070",
   "metadata": {},
   "outputs": [],
   "source": []
  },
  {
   "cell_type": "code",
   "execution_count": 242,
   "id": "bffb6169",
   "metadata": {},
   "outputs": [],
   "source": [
    "a = {'1000000101000010': 180.866, '1000010000100001': 234.667, '0010100001000001': 238.15}\n",
    "b ={'1000000101000010': 210, '1000010000100001': 443, '0010100001000001': 371}"
   ]
  },
  {
   "cell_type": "code",
   "execution_count": 246,
   "id": "02eb15e6",
   "metadata": {},
   "outputs": [
    {
     "data": {
      "text/plain": [
       "True"
      ]
     },
     "execution_count": 246,
     "metadata": {},
     "output_type": "execute_result"
    }
   ],
   "source": [
    "'0010100001000001' in b"
   ]
  },
  {
   "cell_type": "code",
   "execution_count": null,
   "id": "a28d82b4",
   "metadata": {},
   "outputs": [],
   "source": []
  }
 ],
 "metadata": {
  "kernelspec": {
   "display_name": "Python 3 (ipykernel)",
   "language": "python",
   "name": "python3"
  },
  "language_info": {
   "codemirror_mode": {
    "name": "ipython",
    "version": 3
   },
   "file_extension": ".py",
   "mimetype": "text/x-python",
   "name": "python",
   "nbconvert_exporter": "python",
   "pygments_lexer": "ipython3",
   "version": "3.9.12"
  }
 },
 "nbformat": 4,
 "nbformat_minor": 5
}
