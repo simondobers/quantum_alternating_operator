{
 "cells": [
  {
   "cell_type": "code",
   "execution_count": 1,
   "id": "03e01a30",
   "metadata": {},
   "outputs": [],
   "source": [
    "%load_ext autoreload\n",
    "%autoreload 2\n",
    "from helper import create_tsp_graph,plot_tsp_graph,cost,bitstring_to_path\n",
    "from classical import solve_tsp_classical\n",
    "from alternating_operator import create_initial_state_circuit,S_Plus,create_mixer_operator,create_phase_separator\n",
    "from qiskit.circuit import Parameter\n",
    "from qiskit.quantum_info.operators import Operator, Pauli\n",
    "from qiskit.circuit.library import QAOAAnsatz\n",
    "from qiskit import Aer, execute,transpile\n",
    "from scipy.optimize import minimize\n",
    "from qiskit.tools.visualization import plot_histogram"
   ]
  },
  {
   "cell_type": "code",
   "execution_count": 39,
   "id": "211ae3b6",
   "metadata": {},
   "outputs": [],
   "source": [
    "matrix = create_tsp_graph(4)"
   ]
  },
  {
   "cell_type": "code",
   "execution_count": 40,
   "id": "658cc5ce",
   "metadata": {},
   "outputs": [
    {
     "data": {
      "image/png": "[encoded data removed]",
      "text/plain": [
       "<Figure size 432x288 with 1 Axes>"
      ]
     },
     "metadata": {},
     "output_type": "display_data"
    }
   ],
   "source": [
    "plot_tsp_graph(matrix)"
   ]
  },
  {
   "cell_type": "code",
   "execution_count": 19,
   "id": "1e1215aa",
   "metadata": {},
   "outputs": [],
   "source": [
    "def create_qaoa_circ(G,reps=1):\n",
    "    ncities = G.shape[0]\n",
    "    nqubits = ncities**2\n",
    "    \n",
    "    inital_circ = create_initial_state_circuit(ncities)\n",
    "    mixer = create_mixer_operator(ncities)\n",
    "    phase_separator = create_phase_separator(G)\n",
    "    ansatz = QAOAAnsatz(cost_operator=phase_separator, reps=reps, initial_state=inital_circ, mixer_operator=mixer, name='qaoaAnsatz')\n",
    "    \n",
    "    ansatz.measure_all()\n",
    "    \n",
    "    return ansatz"
   ]
  },
  {
   "cell_type": "code",
   "execution_count": 20,
   "id": "070fd772",
   "metadata": {},
   "outputs": [],
   "source": [
    "def get_expectation(G, reps, shots=512):\n",
    "    \n",
    "    simulator = Aer.get_backend('aer_simulator')\n",
    "    simulator.shots = shots\n",
    "    \n",
    "    def execute_circ(theta):\n",
    "        # theta = [ß , y]\n",
    "        \n",
    "        qc = create_qaoa_circ(G, reps=reps)\n",
    "        qc = transpile(qc, simulator)\n",
    "        \n",
    "        # create parameter dictionary \n",
    "        params = {}\n",
    "        for key,value in zip(qc.parameters,theta):\n",
    "            params[key] = [value]\n",
    "        \n",
    "        counts = simulator.run(qc,parameter_binds=[params],  seed_simulator=10, \n",
    "                             nshots=512).result().get_counts()\n",
    "        \n",
    "        return compute_expectation(counts, G)\n",
    "    \n",
    "    return execute_circ"
   ]
  },
  {
   "cell_type": "code",
   "execution_count": 21,
   "id": "09cbbfd8",
   "metadata": {},
   "outputs": [],
   "source": [
    "def compute_expectation(counts, G):\n",
    "    avg = 0\n",
    "    sum_count = 0\n",
    "    for bitstring, count in counts.items():\n",
    "        \n",
    "        path = bitstring_to_path(bitstring)\n",
    "        if path is not None:\n",
    "            path_cost = cost(G, path)\n",
    "        else:\n",
    "            # high cost or 0 cost ? \n",
    "            path_cost = G.sum()\n",
    "            \n",
    "        avg += path_cost * count\n",
    "        sum_count += count\n",
    "        \n",
    "    return avg/sum_count"
   ]
  },
  {
   "cell_type": "code",
   "execution_count": 22,
   "id": "8213c720",
   "metadata": {},
   "outputs": [],
   "source": [
    "def analyse_result(theta_res,reps=1,transform_labels_to_path=True):\n",
    "    simulator = Aer.get_backend('aer_simulator')\n",
    "    simulator.shots = 512\n",
    "    \n",
    "    qc = create_qaoa_circ(matrix,reps=reps)\n",
    "    qc = transpile(qc, simulator)\n",
    "    \n",
    "    params = {}\n",
    "    for key,value in zip(qc.parameters,theta_res):\n",
    "        params[key] = [value]\n",
    "\n",
    "    result = simulator.run(qc,parameter_binds=[params]).result()\n",
    "    counts = result.get_counts()\n",
    "    fig = plot_histogram(counts, title='Result of Optimization')\n",
    "    \n",
    "    if transform_labels_to_path:\n",
    "        ax = fig.axes\n",
    "        ax = ax[0]\n",
    "        \n",
    "        labels = [bitstring_to_path(item.get_text(), return_as_string=True) for item in ax.get_xticklabels()]\n",
    "        ax.set_xticklabels(labels)\n",
    "    \n",
    "    return fig"
   ]
  },
  {
   "cell_type": "code",
   "execution_count": 41,
   "id": "54537336",
   "metadata": {},
   "outputs": [
    {
     "name": "stderr",
     "output_type": "stream",
     "text": [
      "Evolved Hamiltonian is not composed of only Paulis, converting to Pauli representation, which can be expensive.\n",
      "Evolved Hamiltonian is not composed of only Paulis, converting to Pauli representation, which can be expensive.\n",
      "Evolved Hamiltonian is not composed of only Paulis, converting to Pauli representation, which can be expensive.\n",
      "Evolved Hamiltonian is not composed of only Paulis, converting to Pauli representation, which can be expensive.\n",
      "Evolved Hamiltonian is not composed of only Paulis, converting to Pauli representation, which can be expensive.\n",
      "Evolved Hamiltonian is not composed of only Paulis, converting to Pauli representation, which can be expensive.\n",
      "Evolved Hamiltonian is not composed of only Paulis, converting to Pauli representation, which can be expensive.\n",
      "Evolved Hamiltonian is not composed of only Paulis, converting to Pauli representation, which can be expensive.\n",
      "Evolved Hamiltonian is not composed of only Paulis, converting to Pauli representation, which can be expensive.\n",
      "Evolved Hamiltonian is not composed of only Paulis, converting to Pauli representation, which can be expensive.\n",
      "Evolved Hamiltonian is not composed of only Paulis, converting to Pauli representation, which can be expensive.\n",
      "Evolved Hamiltonian is not composed of only Paulis, converting to Pauli representation, which can be expensive.\n",
      "Evolved Hamiltonian is not composed of only Paulis, converting to Pauli representation, which can be expensive.\n",
      "Evolved Hamiltonian is not composed of only Paulis, converting to Pauli representation, which can be expensive.\n",
      "Evolved Hamiltonian is not composed of only Paulis, converting to Pauli representation, which can be expensive.\n",
      "Evolved Hamiltonian is not composed of only Paulis, converting to Pauli representation, which can be expensive.\n",
      "Evolved Hamiltonian is not composed of only Paulis, converting to Pauli representation, which can be expensive.\n",
      "Evolved Hamiltonian is not composed of only Paulis, converting to Pauli representation, which can be expensive.\n",
      "Evolved Hamiltonian is not composed of only Paulis, converting to Pauli representation, which can be expensive.\n",
      "Evolved Hamiltonian is not composed of only Paulis, converting to Pauli representation, which can be expensive.\n",
      "Evolved Hamiltonian is not composed of only Paulis, converting to Pauli representation, which can be expensive.\n",
      "Evolved Hamiltonian is not composed of only Paulis, converting to Pauli representation, which can be expensive.\n",
      "Evolved Hamiltonian is not composed of only Paulis, converting to Pauli representation, which can be expensive.\n",
      "Evolved Hamiltonian is not composed of only Paulis, converting to Pauli representation, which can be expensive.\n",
      "Evolved Hamiltonian is not composed of only Paulis, converting to Pauli representation, which can be expensive.\n",
      "Evolved Hamiltonian is not composed of only Paulis, converting to Pauli representation, which can be expensive.\n",
      "Evolved Hamiltonian is not composed of only Paulis, converting to Pauli representation, which can be expensive.\n"
     ]
    }
   ],
   "source": [
    "expectation = get_expectation(matrix,1,shots=1024)\n",
    "\n",
    "res = minimize(expectation, \n",
    "                      [1.0, 1.0], \n",
    "                      method='COBYLA')"
   ]
  },
  {
   "cell_type": "code",
   "execution_count": 42,
   "id": "8dd85a3c",
   "metadata": {},
   "outputs": [
    {
     "data": {
      "text/plain": [
       "     fun: 3.1237027877969687\n",
       "   maxcv: 0.0\n",
       " message: 'Optimization terminated successfully.'\n",
       "    nfev: 27\n",
       "  status: 1\n",
       " success: True\n",
       "       x: array([1.96484759, 1.00017321])"
      ]
     },
     "execution_count": 42,
     "metadata": {},
     "output_type": "execute_result"
    }
   ],
   "source": [
    "res"
   ]
  },
  {
   "cell_type": "code",
   "execution_count": 43,
   "id": "13e9a6cf",
   "metadata": {},
   "outputs": [
    {
     "name": "stderr",
     "output_type": "stream",
     "text": [
      "Evolved Hamiltonian is not composed of only Paulis, converting to Pauli representation, which can be expensive.\n"
     ]
    },
    {
     "data": {
      "image/png": "[encoded data removed]",
      "text/plain": [
       "<Figure size 504x360 with 1 Axes>"
      ]
     },
     "execution_count": 43,
     "metadata": {},
     "output_type": "execute_result"
    }
   ],
   "source": [
    "analyse_result(res.x,transform_labels_to_path=True)"
   ]
  },
  {
   "cell_type": "code",
   "execution_count": 44,
   "id": "d8c36fed",
   "metadata": {},
   "outputs": [
    {
     "data": {
      "text/plain": [
       "([0, 2, 1, 3], 2.9810703916459875)"
      ]
     },
     "execution_count": 44,
     "metadata": {},
     "output_type": "execute_result"
    }
   ],
   "source": [
    "solve_tsp_classical(matrix)"
   ]
  },
  {
   "cell_type": "code",
   "execution_count": 45,
   "id": "6a5f807a",
   "metadata": {},
   "outputs": [
    {
     "data": {
      "text/plain": [
       "3.117857841743369"
      ]
     },
     "execution_count": 45,
     "metadata": {},
     "output_type": "execute_result"
    }
   ],
   "source": [
    "cost(matrix,[0,1,2,3])"
   ]
  }
 ],
 "metadata": {
  "kernelspec": {
   "display_name": "Python 3 (ipykernel)",
   "language": "python",
   "name": "python3"
  },
  "language_info": {
   "codemirror_mode": {
    "name": "ipython",
    "version": 3
   },
   "file_extension": ".py",
   "mimetype": "text/x-python",
   "name": "python",
   "nbconvert_exporter": "python",
   "pygments_lexer": "ipython3",
   "version": "3.9.12"
  }
 },
 "nbformat": 4,
 "nbformat_minor": 5
}
